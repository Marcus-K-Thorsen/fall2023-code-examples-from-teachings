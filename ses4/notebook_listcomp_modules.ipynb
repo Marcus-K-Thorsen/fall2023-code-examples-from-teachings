{
 "cells": [
  {
   "cell_type": "markdown",
   "metadata": {
    "slideshow": {
     "slide_type": "slide"
    }
   },
   "source": [
    "# List Comprehensions"
   ]
  },
  {
   "cell_type": "markdown",
   "metadata": {},
   "source": [
    "### Basic structure"
   ]
  },
  {
   "cell_type": "markdown",
   "metadata": {
    "slideshow": {
     "slide_type": "-"
    }
   },
   "source": [
    "List Comprehensions provide an elegant way to create new lists.    \n",
    "The following shows the basic structure of a list comprehension:"
   ]
  },
  {
   "cell_type": "code",
   "execution_count": 1,
   "metadata": {
    "slideshow": {
     "slide_type": "-"
    }
   },
   "outputs": [
    {
     "data": {
      "text/plain": [
       "[1, 2, 3, 4]"
      ]
     },
     "execution_count": 1,
     "metadata": {},
     "output_type": "execute_result"
    }
   ],
   "source": [
    "[x for x in [1, 2, 3, 4]]"
   ]
  },
  {
   "cell_type": "markdown",
   "metadata": {},
   "source": [
    "### For loop or list comprehension"
   ]
  },
  {
   "cell_type": "markdown",
   "metadata": {
    "slideshow": {
     "slide_type": "slide"
    }
   },
   "source": [
    "Et for loop der skrives som dette:"
   ]
  },
  {
   "cell_type": "code",
   "execution_count": 12,
   "metadata": {
    "slideshow": {
     "slide_type": "-"
    }
   },
   "outputs": [
    {
     "data": {
      "text/plain": [
       "[1, 2, 3, 4, 5, 6, 7, 8, 9]"
      ]
     },
     "execution_count": 12,
     "metadata": {},
     "output_type": "execute_result"
    }
   ],
   "source": [
    "l = []\n",
    "for i in range(1, 10):\n",
    "    l.append(i)\n",
    "l"
   ]
  },
  {
   "cell_type": "markdown",
   "metadata": {
    "slideshow": {
     "slide_type": "-"
    }
   },
   "source": [
    "Kunne skrives mere elegangt med en list comprehension"
   ]
  },
  {
   "cell_type": "code",
   "execution_count": 2,
   "metadata": {
    "slideshow": {
     "slide_type": "-"
    }
   },
   "outputs": [
    {
     "name": "stdout",
     "output_type": "stream",
     "text": [
      "[1, 2, 3, 4, 5, 6, 7, 8, 9]\n"
     ]
    }
   ],
   "source": [
    "listen = [i for i in range(1, 10)]\n",
    "print(listen)"
   ]
  },
  {
   "cell_type": "markdown",
   "metadata": {
    "slideshow": {
     "slide_type": "slide"
    }
   },
   "source": [
    "## STUDENTS 10 MINUTES TASK \n",
    "**(Ex 1: Alphabet List Comprehensions)**\n",
    "\n",
    "1. Create a list of capital letters in the english alphabet\n",
    "2. Create a list of capital letter from the english aplhabet, but exclude 4 with the Unicode code point of either 70, 75, 80, 85.\n",
    "3. Create a list of capital letter from from the english aplhabet, but exclude every second between F & O"
   ]
  },
  {
   "cell_type": "code",
   "execution_count": 4,
   "metadata": {},
   "outputs": [
    {
     "name": "stdout",
     "output_type": "stream",
     "text": [
      "1. ['A', 'B', 'C', 'D', 'E', 'F', 'G', 'H', 'I', 'J', 'K', 'L', 'M', 'N', 'O', 'P', 'Q', 'R', 'S', 'T', 'U', 'V', 'W', 'X', 'Y', 'Z']\n",
      "2. ['A', 'B', 'C', 'D', 'E', 'G', 'H', 'I', 'J', 'L', 'M', 'N', 'O', 'Q', 'R', 'S', 'T', 'V', 'W', 'X', 'Y', 'Z']\n",
      "3. ['A', 'B', 'C', 'D', 'E', 'F', 'H', 'J', 'L', 'N', 'O', 'P', 'Q', 'R', 'S', 'T', 'U', 'V', 'W', 'X', 'Y', 'Z']\n"
     ]
    }
   ],
   "source": [
    "import string # Importing the string tool to make capital letters\n",
    "\n",
    "# 1. Creating a list of capital letters in the English alphabet\n",
    "alphabet = list(string.ascii_uppercase)\n",
    "print(f\"1. {alphabet}\")\n",
    "\n",
    "# 2. Creating a list of capital letters but, excluding those with Unicode code points 70, 75, 80, and 85\n",
    "exclude_code_points = {70, 75, 80, 85}\n",
    "alphabet_excluding_letters = [c for c in alphabet if ord(c) not in exclude_code_points]\n",
    "print(f\"2. {alphabet_excluding_letters}\")\n",
    "\n",
    "# 3. Creating a list of capital letters, excluding every second letter between 'F' and 'O'\n",
    "start_letter = 'F'\n",
    "end_letter = 'O'\n",
    "alphabet_excluding_letters_between_F_O = [c for c in alphabet if c < start_letter or c >= end_letter or (ord(c) - ord(start_letter)) % 2 == 0]\n",
    "print(f\"3. {alphabet_excluding_letters_between_F_O}\")"
   ]
  },
  {
   "cell_type": "markdown",
   "metadata": {
    "slideshow": {
     "slide_type": "slide"
    }
   },
   "source": [
    "## if, else\n",
    "**if**"
   ]
  },
  {
   "cell_type": "code",
   "execution_count": 14,
   "metadata": {
    "slideshow": {
     "slide_type": "-"
    }
   },
   "outputs": [
    {
     "data": {
      "text/plain": [
       "[2, 4, 6, 8]"
      ]
     },
     "execution_count": 14,
     "metadata": {},
     "output_type": "execute_result"
    }
   ],
   "source": [
    "[x for x in range(1, 10) if x%2 == 0]"
   ]
  },
  {
   "cell_type": "markdown",
   "metadata": {
    "slideshow": {
     "slide_type": "slide"
    }
   },
   "source": [
    "**else**"
   ]
  },
  {
   "cell_type": "code",
   "execution_count": 15,
   "metadata": {
    "slideshow": {
     "slide_type": "-"
    }
   },
   "outputs": [
    {
     "data": {
      "text/plain": [
       "['un-even', 2, 'un-even', 4, 'un-even', 6, 'un-even', 8, 'un-even']"
      ]
     },
     "execution_count": 15,
     "metadata": {},
     "output_type": "execute_result"
    }
   ],
   "source": [
    "[x  if x%2 == 0 else 'un-even'  for x in range(1, 10)]"
   ]
  },
  {
   "cell_type": "markdown",
   "metadata": {
    "slideshow": {
     "slide_type": "slide"
    }
   },
   "source": [
    "## Nested for loops\n",
    "Like you can do a nested for loop"
   ]
  },
  {
   "cell_type": "code",
   "execution_count": 16,
   "metadata": {
    "slideshow": {
     "slide_type": "-"
    }
   },
   "outputs": [
    {
     "data": {
      "text/plain": [
       "[(0, 0), (0, 1), (1, 0), (1, 1), (2, 0), (2, 1)]"
      ]
     },
     "execution_count": 16,
     "metadata": {},
     "output_type": "execute_result"
    }
   ],
   "source": [
    "l = []\n",
    "for i in range(3):\n",
    "    for j in range(2):\n",
    "        l.append((i, j))\n",
    "l"
   ]
  },
  {
   "cell_type": "markdown",
   "metadata": {
    "slideshow": {
     "slide_type": "-"
    }
   },
   "source": [
    "You can create nested list comprehensions"
   ]
  },
  {
   "cell_type": "code",
   "execution_count": 17,
   "metadata": {
    "slideshow": {
     "slide_type": "-"
    }
   },
   "outputs": [
    {
     "data": {
      "text/plain": [
       "[(0, 0), (0, 1), (1, 0), (1, 1), (2, 0), (2, 1)]"
      ]
     },
     "execution_count": 17,
     "metadata": {},
     "output_type": "execute_result"
    }
   ],
   "source": [
    "[(i,j) for i in range(3) for j in range(2)]"
   ]
  },
  {
   "cell_type": "markdown",
   "metadata": {
    "slideshow": {
     "slide_type": "slide"
    }
   },
   "source": [
    "## STUDENTS 10 MINUTES TASK\n",
    "**Ex 2: Clothes List Comprehension**\n",
    "\n",
    "1. From 2 lists, using a list comprehension, create a list containing:"
   ]
  },
  {
   "cell_type": "code",
   "execution_count": 20,
   "metadata": {
    "slideshow": {
     "slide_type": "-"
    }
   },
   "outputs": [
    {
     "data": {
      "text/plain": [
       "[('Black', 's'),\n",
       " ('Black', 'm'),\n",
       " ('Black', 'l'),\n",
       " ('Black', 'xl'),\n",
       " ('White', 's'),\n",
       " ('White', 'm'),\n",
       " ('White', 'l'),\n",
       " ('White', 'xl')]"
      ]
     },
     "execution_count": 20,
     "metadata": {},
     "output_type": "execute_result"
    }
   ],
   "source": [
    "[('Black', 's'), ('Black', 'm'), ('Black', 'l'), ('Black', 'xl'), ('White', 's'), ('White', 'm'), ('White', 'l'), ('White', 'xl')]"
   ]
  },
  {
   "cell_type": "code",
   "execution_count": 9,
   "metadata": {
    "slideshow": {
     "slide_type": "-"
    }
   },
   "outputs": [
    {
     "data": {
      "text/plain": [
       "[('Black', 's'),\n",
       " ('Black', 'm'),\n",
       " ('Black', 'l'),\n",
       " ('Black', 'xl'),\n",
       " ('White', 's'),\n",
       " ('White', 'm'),\n",
       " ('White', 'l'),\n",
       " ('White', 'xl')]"
      ]
     },
     "execution_count": 9,
     "metadata": {},
     "output_type": "execute_result"
    }
   ],
   "source": [
    "colors = ['Black', 'White']\n",
    "sizes = ['s', 'm', 'l', 'xl']\n",
    "[(color,size) for color in colors for size in sizes]"
   ]
  },
  {
   "cell_type": "markdown",
   "metadata": {
    "slideshow": {
     "slide_type": "-"
    }
   },
   "source": [
    "2. If the tuple pair is in the following list, it should not be added to the comprehension generated list. "
   ]
  },
  {
   "cell_type": "code",
   "execution_count": 16,
   "metadata": {},
   "outputs": [
    {
     "data": {
      "text/plain": [
       "[('Black', 's'),\n",
       " ('Black', 'l'),\n",
       " ('Black', 'xl'),\n",
       " ('White', 'm'),\n",
       " ('White', 'l'),\n",
       " ('White', 'xl')]"
      ]
     },
     "execution_count": 16,
     "metadata": {},
     "output_type": "execute_result"
    }
   ],
   "source": [
    "soled_out = [('Black', 'm'), ('White', 's')]\n",
    "[(color,size) for color in colors for size in sizes if (color,size) not in soled_out]"
   ]
  },
  {
   "cell_type": "markdown",
   "metadata": {
    "slideshow": {
     "slide_type": "slide"
    }
   },
   "source": [
    "# Modules\n",
    "## Build in Modules"
   ]
  },
  {
   "cell_type": "markdown",
   "metadata": {
    "slideshow": {
     "slide_type": "slide"
    }
   },
   "source": [
    "## The import statement"
   ]
  },
  {
   "cell_type": "markdown",
   "metadata": {
    "slideshow": {
     "slide_type": "slide"
    }
   },
   "source": [
    "## OS Module"
   ]
  },
  {
   "cell_type": "code",
   "execution_count": 64,
   "metadata": {
    "slideshow": {
     "slide_type": "slide"
    }
   },
   "outputs": [
    {
     "data": {
      "text/plain": [
       "['.git',\n",
       " '.gitignore',\n",
       " '.venv',\n",
       " 'README.md',\n",
       " 'requirements.txt',\n",
       " 'ses1',\n",
       " 'ses2',\n",
       " 'ses4']"
      ]
     },
     "execution_count": 64,
     "metadata": {},
     "output_type": "execute_result"
    }
   ],
   "source": [
    "import os\n",
    "#os.chdir('Users')\n",
    "#os.chdir('Marcus')\n",
    "#os.chdir('Coding_Projects')\n",
    "#os.chdir('Python_Projects')\n",
    "#os.chdir('fall2023-code-examples-from-teachings')\n",
    "#os.chdir('ses4')\n",
    "os.chdir('..')\n",
    "\n",
    "os.listdir()"
   ]
  },
  {
   "cell_type": "markdown",
   "metadata": {
    "slideshow": {
     "slide_type": "-"
    }
   },
   "source": [
    "**Other usefull OS methods**"
   ]
  },
  {
   "cell_type": "code",
   "execution_count": 56,
   "metadata": {
    "slideshow": {
     "slide_type": "-"
    }
   },
   "outputs": [
    {
     "name": "stdout",
     "output_type": "stream",
     "text": [
      "['notebook_listcomp_modules.ipynb', 'README.md', 'Test']\n",
      "['notebook_listcomp_modules.ipynb', 'README.md', 'Test']\n",
      "['notebook_listcomp_modules.ipynb', 'README.md']\n"
     ]
    }
   ],
   "source": [
    "os.chdir('/.')\n",
    "os.chdir('Users')\n",
    "os.chdir('Marcus')\n",
    "os.chdir('Coding_Projects')\n",
    "os.chdir('Python_Projects')\n",
    "os.chdir('fall2023-code-examples-from-teachings')\n",
    "os.chdir('ses4')\n",
    "\n",
    "print(os.listdir())\n",
    "os.mkdir('Test')\n",
    "print(os.listdir())\n",
    "os.rmdir('Test')\n",
    "print(os.listdir())\n",
    "\n",
    "# More: https://realpython.com/working-with-files-in-python/ and https://docs.python.org/3/library/os.html"
   ]
  },
  {
   "cell_type": "markdown",
   "metadata": {
    "slideshow": {
     "slide_type": "slide"
    }
   },
   "source": [
    "## STUDENTS 10 MINUTES TASK\n",
    "**Ex 5: OS Module Exercise**"
   ]
  },
  {
   "cell_type": "markdown",
   "metadata": {
    "slideshow": {
     "slide_type": "-"
    }
   },
   "source": [
    "## Do the following task using the os module\n",
    "\n",
    "1. create a folder and name the folder 'os_exercises.'                                                  \n",
    "2. In that folder create a file. Name the file 'exercise.py'                                                                            \n",
    "3. get input from the console and write it to the file.                                                 \n",
    "4. repeat step 2 and 3 (and append to the file).                                                  \n",
    "5. read the content of the files and and print it to the console.\n"
   ]
  },
  {
   "cell_type": "markdown",
   "metadata": {
    "slideshow": {
     "slide_type": "slide"
    }
   },
   "source": [
    "## Subprocess module\n",
    "Run unix commands through python"
   ]
  },
  {
   "cell_type": "code",
   "execution_count": 6,
   "metadata": {
    "slideshow": {
     "slide_type": "-"
    }
   },
   "outputs": [
    {
     "name": "stdout",
     "output_type": "stream",
     "text": [
      "c:\\Users\\Marcus\\Coding_Projects\\Python_Projects\\fall2023-code-examples-from-teachings\\ses4\n",
      "\n"
     ]
    }
   ],
   "source": [
    "#%pip install subprocess\n",
    "import subprocess\n",
    "#result = subprocess.run(['pwd'], stdout=subprocess.PIPE, text=True, shell=True)\n",
    "result = subprocess.run(['cd'], stdout=subprocess.PIPE, text=True, shell=True)\n",
    "print(result.stdout)\n"
   ]
  },
  {
   "cell_type": "markdown",
   "metadata": {
    "slideshow": {
     "slide_type": "slide"
    }
   },
   "source": [
    "## Subprocess module\n",
    "Run git commands through python"
   ]
  },
  {
   "cell_type": "code",
   "execution_count": 20,
   "metadata": {
    "slideshow": {
     "slide_type": "-"
    }
   },
   "outputs": [
    {
     "name": "stdout",
     "output_type": "stream",
     "text": [
      "README.md\n",
      "notebook_listcomp_modules.ipynb\n"
     ]
    },
    {
     "data": {
      "text/plain": [
       "CompletedProcess(args=['ls'], returncode=0)"
      ]
     },
     "execution_count": 20,
     "metadata": {},
     "output_type": "execute_result"
    }
   ],
   "source": [
    "import subprocess    \n",
    "# subprocess.run(['git', 'clone', 'https://github.com/python-elective-kea/fall2023.git'])        \n",
    "\n",
    "subprocess.run(['ls'])    "
   ]
  },
  {
   "cell_type": "markdown",
   "metadata": {
    "slideshow": {
     "slide_type": "slide"
    }
   },
   "source": [
    "# Requests module (3rd party)\n",
    "## Have to be installed by:\n",
    "> pip install requests"
   ]
  },
  {
   "cell_type": "code",
   "execution_count": 67,
   "metadata": {
    "slideshow": {
     "slide_type": "slide"
    }
   },
   "outputs": [
    {
     "name": "stdout",
     "output_type": "stream",
     "text": [
      "Collecting requests\n",
      "  Obtaining dependency information for requests from https://files.pythonhosted.org/packages/70/8e/0e2d847013cb52cd35b38c009bb167a1a26b2ce6cd6965bf26b47bc0bf44/requests-2.31.0-py3-none-any.whl.metadata\n",
      "  Using cached requests-2.31.0-py3-none-any.whl.metadata (4.6 kB)\n",
      "Collecting charset-normalizer<4,>=2 (from requests)\n",
      "  Obtaining dependency information for charset-normalizer<4,>=2 from https://files.pythonhosted.org/packages/91/6e/db0e545302bf93b6dbbdc496dd192c7f8e8c3bb1584acba069256d8b51d4/charset_normalizer-3.2.0-cp311-cp311-win_amd64.whl.metadata\n",
      "  Using cached charset_normalizer-3.2.0-cp311-cp311-win_amd64.whl.metadata (31 kB)\n",
      "Collecting idna<4,>=2.5 (from requests)\n",
      "  Using cached idna-3.4-py3-none-any.whl (61 kB)\n",
      "Collecting urllib3<3,>=1.21.1 (from requests)\n",
      "  Obtaining dependency information for urllib3<3,>=1.21.1 from https://files.pythonhosted.org/packages/9b/81/62fd61001fa4b9d0df6e31d47ff49cfa9de4af03adecf339c7bc30656b37/urllib3-2.0.4-py3-none-any.whl.metadata\n",
      "  Downloading urllib3-2.0.4-py3-none-any.whl.metadata (6.6 kB)\n",
      "Collecting certifi>=2017.4.17 (from requests)\n",
      "  Obtaining dependency information for certifi>=2017.4.17 from https://files.pythonhosted.org/packages/4c/dd/2234eab22353ffc7d94e8d13177aaa050113286e93e7b40eae01fbf7c3d9/certifi-2023.7.22-py3-none-any.whl.metadata\n",
      "  Using cached certifi-2023.7.22-py3-none-any.whl.metadata (2.2 kB)\n",
      "Using cached requests-2.31.0-py3-none-any.whl (62 kB)\n",
      "Using cached certifi-2023.7.22-py3-none-any.whl (158 kB)\n",
      "Using cached charset_normalizer-3.2.0-cp311-cp311-win_amd64.whl (96 kB)\n",
      "Downloading urllib3-2.0.4-py3-none-any.whl (123 kB)\n",
      "   ---------------------------------------- 0.0/123.9 kB ? eta -:--:--\n",
      "   ---------------------------------------- 0.0/123.9 kB ? eta -:--:--\n",
      "   --- ------------------------------------ 10.2/123.9 kB ? eta -:--:--\n",
      "   --------- ----------------------------- 30.7/123.9 kB 435.7 kB/s eta 0:00:01\n",
      "   ---------------------------------- --- 112.6/123.9 kB 930.9 kB/s eta 0:00:01\n",
      "   -------------------------------------- 123.9/123.9 kB 806.2 kB/s eta 0:00:00\n",
      "Installing collected packages: urllib3, idna, charset-normalizer, certifi, requests\n",
      "Successfully installed certifi-2023.7.22 charset-normalizer-3.2.0 idna-3.4 requests-2.31.0 urllib3-2.0.4\n",
      "Note: you may need to restart the kernel to use updated packages.\n"
     ]
    }
   ],
   "source": [
    "# %pip install requests\n",
    "import requests"
   ]
  },
  {
   "cell_type": "code",
   "execution_count": 68,
   "metadata": {
    "slideshow": {
     "slide_type": "-"
    }
   },
   "outputs": [
    {
     "name": "stdout",
     "output_type": "stream",
     "text": [
      "Package            Version\n",
      "------------------ -----------\n",
      "asttokens          2.2.1\n",
      "backcall           0.2.0\n",
      "certifi            2023.7.22\n",
      "charset-normalizer 3.2.0\n",
      "colorama           0.4.6\n",
      "comm               0.1.4\n",
      "debugpy            1.6.7.post1\n",
      "decorator          5.1.1\n",
      "executing          1.2.0\n",
      "idna               3.4\n",
      "ipykernel          6.25.1\n",
      "ipython            8.14.0\n",
      "jedi               0.19.0\n",
      "jupyter_client     8.3.1\n",
      "jupyter_core       5.3.1\n",
      "matplotlib-inline  0.1.6\n",
      "nest-asyncio       1.5.7\n",
      "packaging          23.1\n",
      "parso              0.8.3\n",
      "pickleshare        0.7.5\n",
      "pip                23.2.1\n",
      "platformdirs       3.10.0\n",
      "prompt-toolkit     3.0.39\n",
      "psutil             5.9.5\n",
      "pure-eval          0.2.2\n",
      "Pygments           2.16.1\n",
      "python-dateutil    2.8.2\n",
      "pywin32            306\n",
      "pyzmq              25.1.1\n",
      "requests           2.31.0\n",
      "setuptools         65.5.0\n",
      "six                1.16.0\n",
      "stack-data         0.6.2\n",
      "tornado            6.3.3\n",
      "traitlets          5.9.0\n",
      "urllib3            2.0.4\n",
      "wcwidth            0.2.6\n",
      "Note: you may need to restart the kernel to use updated packages.\n"
     ]
    }
   ],
   "source": [
    "%pip list"
   ]
  },
  {
   "cell_type": "code",
   "execution_count": 3,
   "metadata": {
    "slideshow": {
     "slide_type": "slide"
    }
   },
   "outputs": [
    {
     "data": {
      "text/plain": [
       "90948"
      ]
     },
     "execution_count": 3,
     "metadata": {},
     "output_type": "execute_result"
    }
   ],
   "source": [
    "import requests    \n",
    "res = requests.get('https://kea.dk')\n",
    "res.text\n",
    "\n",
    "f = open('test.html', 'w')\n",
    "f.write(res.text)"
   ]
  },
  {
   "cell_type": "markdown",
   "metadata": {
    "slideshow": {
     "slide_type": "slide"
    }
   },
   "source": [
    "## Download Images"
   ]
  },
  {
   "cell_type": "code",
   "execution_count": 1,
   "metadata": {
    "slideshow": {
     "slide_type": "-"
    }
   },
   "outputs": [
    {
     "data": {
      "text/plain": [
       "2715"
      ]
     },
     "execution_count": 1,
     "metadata": {},
     "output_type": "execute_result"
    }
   ],
   "source": [
    "import requests\n",
    "\n",
    "f = requests.get('https://kea.dk/images/resources/logo-main-black-single.png', allow_redirects=True)\n",
    "\n",
    "o = open('logo.png', 'wb')\n",
    "o.write(f.content)"
   ]
  },
  {
   "cell_type": "markdown",
   "metadata": {},
   "source": [
    "# Ex 5: OS Module exercise\n",
    "\n",
    "Do the following task using the os module\n",
    "\n",
    "1. create a folder and name the folder 'os_exercises.'                                                  \n",
    "2. In that folder create a file. Name the file 'exercise.py'                                                                            \n",
    "3. get input from the console and write it to the file.                                                 \n",
    "    * In VSCode and using Notebooks the console will pop up in the top of the editor. So ```input()``` will propt the user for input, and i VScode this is in the top of the editor. \n",
    "4. repeat step 2 and 3 (name the file something else).                                                  \n",
    "5. read the content of the files and and print it to the console."
   ]
  },
  {
   "cell_type": "code",
   "execution_count": 13,
   "metadata": {},
   "outputs": [
    {
     "name": "stdout",
     "output_type": "stream",
     "text": [
      "['logo.png', 'notebook_listcomp_modules.ipynb', 'os_exercises', 'README.md', 'test.html']\n",
      "File 'exercise.py': Fisk 1\n",
      "File 'newexercise.py': Fisk 2\n"
     ]
    }
   ],
   "source": [
    "# Finder frem til det rigtige directory jeg vil arbejde fra\n",
    "import os\n",
    "import subprocess \n",
    "os.chdir('/.')\n",
    "os.chdir('Users')\n",
    "os.chdir('Marcus')\n",
    "os.chdir('Coding_Projects')\n",
    "os.chdir('Python_Projects')\n",
    "os.chdir('fall2023-code-examples-from-teachings')\n",
    "os.chdir('ses4')\n",
    "print(os.listdir())\n",
    "\n",
    "# 1. Creating folder and name it 'os_exercises'\n",
    "#os.mkdir('os_exercises')\n",
    "\n",
    "# 2. Goes in to the newly created folder and creates the file named 'exercise.py'\n",
    "os.chdir('os_exercises')\n",
    "open_py_file = open('exercise.py', 'w')\n",
    "\n",
    "# 3. Gets input form user/console and write it to the file\n",
    "resulting_input = input('Indtast noget til filen \"exercise.py\":')\n",
    "open_py_file.write(resulting_input)\n",
    "open_py_file.close()\n",
    "os.chdir('..')\n",
    "\n",
    "# 4. Repeat step 2, go in to the folder and sted 3, get user input and write it in to a new file\n",
    "os.chdir('os_exercises')\n",
    "new_py_file = open('newexercise.py', 'w')\n",
    "new_input = input('Indtast noget til den nye python fil \"newexercise.py:')\n",
    "new_py_file.write(new_input)\n",
    "new_py_file.close()\n",
    "\n",
    "# 5. Reading content from the 2 files and printing them to the console\n",
    "file_output_1 = open('exercise.py', 'r').read()\n",
    "file_output_2 = open('newexercise.py', 'r').read()\n",
    "\n",
    "print(f\"File 'exercise.py': {file_output_1}\")\n",
    "print(f\"File 'newexercise.py': {file_output_2}\")\n"
   ]
  },
  {
   "cell_type": "markdown",
   "metadata": {},
   "source": [
    "# Ex 6: Simple scraber with requests\n",
    "\n",
    "1. Create an application that asks for an url.\n",
    "2. Then Download that html page, and its images, icons etc. and change it so it will work locally on your computer. (Locally means that you should be able to cut your internet connection and still have a functionig html page).\n",
    "3. When done push all files to your github account. (all should be done programattically) Hint: api.github.com/user/repos can be used to create a repository from you program on Github)\n",
    "You will have to use the requests module, the OS module and the subprocesses module for this taks.\n",
    "An easy website to scrape is this: [url](https://clbokea.github.io/exam/assignment_2.html)"
   ]
  },
  {
   "cell_type": "code",
   "execution_count": null,
   "metadata": {},
   "outputs": [],
   "source": []
  }
 ],
 "metadata": {
  "celltoolbar": "Slideshow",
  "kernelspec": {
   "display_name": "Python 3",
   "language": "python",
   "name": "python3"
  },
  "language_info": {
   "codemirror_mode": {
    "name": "ipython",
    "version": 3
   },
   "file_extension": ".py",
   "mimetype": "text/x-python",
   "name": "python",
   "nbconvert_exporter": "python",
   "pygments_lexer": "ipython3",
   "version": "3.11.5"
  }
 },
 "nbformat": 4,
 "nbformat_minor": 4
}
