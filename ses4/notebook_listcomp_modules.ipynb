{
 "cells": [
  {
   "cell_type": "markdown",
   "metadata": {
    "slideshow": {
     "slide_type": "slide"
    }
   },
   "source": [
    "# List Comprehensions"
   ]
  },
  {
   "cell_type": "markdown",
   "metadata": {},
   "source": [
    "### Basic structure"
   ]
  },
  {
   "cell_type": "markdown",
   "metadata": {
    "slideshow": {
     "slide_type": "-"
    }
   },
   "source": [
    "List Comprehensions provide an elegant way to create new lists.    \n",
    "The following shows the basic structure of a list comprehension:"
   ]
  },
  {
   "cell_type": "code",
   "execution_count": 1,
   "metadata": {
    "slideshow": {
     "slide_type": "-"
    }
   },
   "outputs": [
    {
     "data": {
      "text/plain": [
       "[1, 2, 3, 4]"
      ]
     },
     "execution_count": 1,
     "metadata": {},
     "output_type": "execute_result"
    }
   ],
   "source": [
    "[x for x in [1, 2, 3, 4]]"
   ]
  },
  {
   "cell_type": "markdown",
   "metadata": {},
   "source": [
    "### For loop or list comprehension"
   ]
  },
  {
   "cell_type": "markdown",
   "metadata": {
    "slideshow": {
     "slide_type": "slide"
    }
   },
   "source": [
    "Et for loop der skrives som dette:"
   ]
  },
  {
   "cell_type": "code",
   "execution_count": 12,
   "metadata": {
    "slideshow": {
     "slide_type": "-"
    }
   },
   "outputs": [
    {
     "data": {
      "text/plain": [
       "[1, 2, 3, 4, 5, 6, 7, 8, 9]"
      ]
     },
     "execution_count": 12,
     "metadata": {},
     "output_type": "execute_result"
    }
   ],
   "source": [
    "l = []\n",
    "for i in range(1, 10):\n",
    "    l.append(i)\n",
    "l"
   ]
  },
  {
   "cell_type": "markdown",
   "metadata": {
    "slideshow": {
     "slide_type": "-"
    }
   },
   "source": [
    "Kunne skrives mere elegangt med en list comprehension"
   ]
  },
  {
   "cell_type": "code",
   "execution_count": 2,
   "metadata": {
    "slideshow": {
     "slide_type": "-"
    }
   },
   "outputs": [
    {
     "name": "stdout",
     "output_type": "stream",
     "text": [
      "[1, 2, 3, 4, 5, 6, 7, 8, 9]\n"
     ]
    }
   ],
   "source": [
    "listen = [i for i in range(1, 10)]\n",
    "print(listen)"
   ]
  },
  {
   "cell_type": "markdown",
   "metadata": {
    "slideshow": {
     "slide_type": "slide"
    }
   },
   "source": [
    "## STUDENTS 10 MINUTES TASK \n",
    "**(Ex 1: Alphabet List Comprehensions)**\n",
    "\n",
    "1. Create a list of capital letters in the english alphabet\n",
    "2. Create a list of capital letter from the english aplhabet, but exclude 4 with the Unicode code point of either 70, 75, 80, 85.\n",
    "3. Create a list of capital letter from from the english aplhabet, but exclude every second between F & O"
   ]
  },
  {
   "cell_type": "code",
   "execution_count": 4,
   "metadata": {},
   "outputs": [
    {
     "name": "stdout",
     "output_type": "stream",
     "text": [
      "1. ['A', 'B', 'C', 'D', 'E', 'F', 'G', 'H', 'I', 'J', 'K', 'L', 'M', 'N', 'O', 'P', 'Q', 'R', 'S', 'T', 'U', 'V', 'W', 'X', 'Y', 'Z']\n",
      "2. ['A', 'B', 'C', 'D', 'E', 'G', 'H', 'I', 'J', 'L', 'M', 'N', 'O', 'Q', 'R', 'S', 'T', 'V', 'W', 'X', 'Y', 'Z']\n",
      "3. ['A', 'B', 'C', 'D', 'E', 'F', 'H', 'J', 'L', 'N', 'O', 'P', 'Q', 'R', 'S', 'T', 'U', 'V', 'W', 'X', 'Y', 'Z']\n"
     ]
    }
   ],
   "source": [
    "import string # Importing the string tool to make capital letters\n",
    "\n",
    "# 1. Creating a list of capital letters in the English alphabet\n",
    "alphabet = list(string.ascii_uppercase)\n",
    "print(f\"1. {alphabet}\")\n",
    "\n",
    "# 2. Creating a list of capital letters but, excluding those with Unicode code points 70, 75, 80, and 85\n",
    "exclude_code_points = {70, 75, 80, 85}\n",
    "alphabet_excluding_letters = [c for c in alphabet if ord(c) not in exclude_code_points]\n",
    "print(f\"2. {alphabet_excluding_letters}\")\n",
    "\n",
    "# 3. Creating a list of capital letters, excluding every second letter between 'F' and 'O'\n",
    "start_letter = 'F'\n",
    "end_letter = 'O'\n",
    "alphabet_excluding_letters_between_F_O = [c for c in alphabet if c < start_letter or c >= end_letter or (ord(c) - ord(start_letter)) % 2 == 0]\n",
    "print(f\"3. {alphabet_excluding_letters_between_F_O}\")"
   ]
  },
  {
   "cell_type": "markdown",
   "metadata": {
    "slideshow": {
     "slide_type": "slide"
    }
   },
   "source": [
    "## if, else\n",
    "**if**"
   ]
  },
  {
   "cell_type": "code",
   "execution_count": 14,
   "metadata": {
    "slideshow": {
     "slide_type": "-"
    }
   },
   "outputs": [
    {
     "data": {
      "text/plain": [
       "[2, 4, 6, 8]"
      ]
     },
     "execution_count": 14,
     "metadata": {},
     "output_type": "execute_result"
    }
   ],
   "source": [
    "[x for x in range(1, 10) if x%2 == 0]"
   ]
  },
  {
   "cell_type": "markdown",
   "metadata": {
    "slideshow": {
     "slide_type": "slide"
    }
   },
   "source": [
    "**else**"
   ]
  },
  {
   "cell_type": "code",
   "execution_count": 15,
   "metadata": {
    "slideshow": {
     "slide_type": "-"
    }
   },
   "outputs": [
    {
     "data": {
      "text/plain": [
       "['un-even', 2, 'un-even', 4, 'un-even', 6, 'un-even', 8, 'un-even']"
      ]
     },
     "execution_count": 15,
     "metadata": {},
     "output_type": "execute_result"
    }
   ],
   "source": [
    "[x  if x%2 == 0 else 'un-even'  for x in range(1, 10)]"
   ]
  },
  {
   "cell_type": "markdown",
   "metadata": {
    "slideshow": {
     "slide_type": "slide"
    }
   },
   "source": [
    "## Nested for loops\n",
    "Like you can do a nested for loop"
   ]
  },
  {
   "cell_type": "code",
   "execution_count": 16,
   "metadata": {
    "slideshow": {
     "slide_type": "-"
    }
   },
   "outputs": [
    {
     "data": {
      "text/plain": [
       "[(0, 0), (0, 1), (1, 0), (1, 1), (2, 0), (2, 1)]"
      ]
     },
     "execution_count": 16,
     "metadata": {},
     "output_type": "execute_result"
    }
   ],
   "source": [
    "l = []\n",
    "for i in range(3):\n",
    "    for j in range(2):\n",
    "        l.append((i, j))\n",
    "l"
   ]
  },
  {
   "cell_type": "markdown",
   "metadata": {
    "slideshow": {
     "slide_type": "-"
    }
   },
   "source": [
    "You can create nested list comprehensions"
   ]
  },
  {
   "cell_type": "code",
   "execution_count": 17,
   "metadata": {
    "slideshow": {
     "slide_type": "-"
    }
   },
   "outputs": [
    {
     "data": {
      "text/plain": [
       "[(0, 0), (0, 1), (1, 0), (1, 1), (2, 0), (2, 1)]"
      ]
     },
     "execution_count": 17,
     "metadata": {},
     "output_type": "execute_result"
    }
   ],
   "source": [
    "[(i,j) for i in range(3) for j in range(2)]"
   ]
  },
  {
   "cell_type": "markdown",
   "metadata": {
    "slideshow": {
     "slide_type": "slide"
    }
   },
   "source": [
    "## STUDENTS 10 MINUTES TASK\n",
    "**Ex 2: Clothes List Comprehension**\n",
    "\n",
    "1. From 2 lists, using a list comprehension, create a list containing:"
   ]
  },
  {
   "cell_type": "code",
   "execution_count": 20,
   "metadata": {
    "slideshow": {
     "slide_type": "-"
    }
   },
   "outputs": [
    {
     "data": {
      "text/plain": [
       "[('Black', 's'),\n",
       " ('Black', 'm'),\n",
       " ('Black', 'l'),\n",
       " ('Black', 'xl'),\n",
       " ('White', 's'),\n",
       " ('White', 'm'),\n",
       " ('White', 'l'),\n",
       " ('White', 'xl')]"
      ]
     },
     "execution_count": 20,
     "metadata": {},
     "output_type": "execute_result"
    }
   ],
   "source": [
    "[('Black', 's'), ('Black', 'm'), ('Black', 'l'), ('Black', 'xl'), ('White', 's'), ('White', 'm'), ('White', 'l'), ('White', 'xl')]"
   ]
  },
  {
   "cell_type": "code",
   "execution_count": 9,
   "metadata": {
    "slideshow": {
     "slide_type": "-"
    }
   },
   "outputs": [
    {
     "data": {
      "text/plain": [
       "[('Black', 's'),\n",
       " ('Black', 'm'),\n",
       " ('Black', 'l'),\n",
       " ('Black', 'xl'),\n",
       " ('White', 's'),\n",
       " ('White', 'm'),\n",
       " ('White', 'l'),\n",
       " ('White', 'xl')]"
      ]
     },
     "execution_count": 9,
     "metadata": {},
     "output_type": "execute_result"
    }
   ],
   "source": [
    "colors = ['Black', 'White']\n",
    "sizes = ['s', 'm', 'l', 'xl']\n",
    "[(color,size) for color in colors for size in sizes]"
   ]
  },
  {
   "cell_type": "markdown",
   "metadata": {
    "slideshow": {
     "slide_type": "-"
    }
   },
   "source": [
    "2. If the tuple pair is in the following list, it should not be added to the comprehension generated list. "
   ]
  },
  {
   "cell_type": "code",
   "execution_count": 16,
   "metadata": {},
   "outputs": [
    {
     "data": {
      "text/plain": [
       "[('Black', 's'),\n",
       " ('Black', 'l'),\n",
       " ('Black', 'xl'),\n",
       " ('White', 'm'),\n",
       " ('White', 'l'),\n",
       " ('White', 'xl')]"
      ]
     },
     "execution_count": 16,
     "metadata": {},
     "output_type": "execute_result"
    }
   ],
   "source": [
    "soled_out = [('Black', 'm'), ('White', 's')]\n",
    "[(color,size) for color in colors for size in sizes if (color,size) not in soled_out]"
   ]
  },
  {
   "cell_type": "markdown",
   "metadata": {
    "slideshow": {
     "slide_type": "slide"
    }
   },
   "source": [
    "# Modules\n",
    "## Build in Modules"
   ]
  },
  {
   "cell_type": "markdown",
   "metadata": {
    "slideshow": {
     "slide_type": "slide"
    }
   },
   "source": [
    "## The import statement"
   ]
  },
  {
   "cell_type": "markdown",
   "metadata": {
    "slideshow": {
     "slide_type": "slide"
    }
   },
   "source": [
    "## OS Module"
   ]
  },
  {
   "cell_type": "code",
   "execution_count": 64,
   "metadata": {
    "slideshow": {
     "slide_type": "slide"
    }
   },
   "outputs": [
    {
     "data": {
      "text/plain": [
       "['.git',\n",
       " '.gitignore',\n",
       " '.venv',\n",
       " 'README.md',\n",
       " 'requirements.txt',\n",
       " 'ses1',\n",
       " 'ses2',\n",
       " 'ses4']"
      ]
     },
     "execution_count": 64,
     "metadata": {},
     "output_type": "execute_result"
    }
   ],
   "source": [
    "import os\n",
    "#os.chdir('Users')\n",
    "#os.chdir('Marcus')\n",
    "#os.chdir('Coding_Projects')\n",
    "#os.chdir('Python_Projects')\n",
    "#os.chdir('fall2023-code-examples-from-teachings')\n",
    "#os.chdir('ses4')\n",
    "os.chdir('..')\n",
    "\n",
    "os.listdir()"
   ]
  },
  {
   "cell_type": "markdown",
   "metadata": {
    "slideshow": {
     "slide_type": "-"
    }
   },
   "source": [
    "**Other usefull OS methods**"
   ]
  },
  {
   "cell_type": "code",
   "execution_count": 9,
   "metadata": {
    "slideshow": {
     "slide_type": "-"
    }
   },
   "outputs": [
    {
     "name": "stdout",
     "output_type": "stream",
     "text": [
      "['fall2023', 'logo.png', 'notebook_listcomp_modules.ipynb', 'os_exercises', 'README.md', 'test.html']\n",
      "['fall2023', 'logo.png', 'notebook_listcomp_modules.ipynb', 'os_exercises', 'README.md', 'Test', 'test.html']\n"
     ]
    },
    {
     "ename": "FileExistsError",
     "evalue": "[WinError 183] En fil, som allerede findes, kan ikke oprettes: 'Test'",
     "output_type": "error",
     "traceback": [
      "\u001b[1;31m---------------------------------------------------------------------------\u001b[0m",
      "\u001b[1;31mFileExistsError\u001b[0m                           Traceback (most recent call last)",
      "\u001b[1;32mc:\\Users\\Marcus\\Coding_Projects\\Python_Projects\\fall2023-code-examples-from-teachings\\ses4\\notebook_listcomp_modules.ipynb Cell 30\u001b[0m line \u001b[0;36m1\n\u001b[0;32m     <a href='vscode-notebook-cell:/c%3A/Users/Marcus/Coding_Projects/Python_Projects/fall2023-code-examples-from-teachings/ses4/notebook_listcomp_modules.ipynb#Y220sZmlsZQ%3D%3D?line=9'>10</a>\u001b[0m os\u001b[39m.\u001b[39mmkdir(\u001b[39m'\u001b[39m\u001b[39mTest\u001b[39m\u001b[39m'\u001b[39m)\n\u001b[0;32m     <a href='vscode-notebook-cell:/c%3A/Users/Marcus/Coding_Projects/Python_Projects/fall2023-code-examples-from-teachings/ses4/notebook_listcomp_modules.ipynb#Y220sZmlsZQ%3D%3D?line=10'>11</a>\u001b[0m \u001b[39mprint\u001b[39m(os\u001b[39m.\u001b[39mlistdir())\n\u001b[1;32m---> <a href='vscode-notebook-cell:/c%3A/Users/Marcus/Coding_Projects/Python_Projects/fall2023-code-examples-from-teachings/ses4/notebook_listcomp_modules.ipynb#Y220sZmlsZQ%3D%3D?line=11'>12</a>\u001b[0m os\u001b[39m.\u001b[39;49mmkdir(\u001b[39m'\u001b[39;49m\u001b[39mTest\u001b[39;49m\u001b[39m'\u001b[39;49m)\n\u001b[0;32m     <a href='vscode-notebook-cell:/c%3A/Users/Marcus/Coding_Projects/Python_Projects/fall2023-code-examples-from-teachings/ses4/notebook_listcomp_modules.ipynb#Y220sZmlsZQ%3D%3D?line=12'>13</a>\u001b[0m \u001b[39mprint\u001b[39m(os\u001b[39m.\u001b[39mlistdir())\n\u001b[0;32m     <a href='vscode-notebook-cell:/c%3A/Users/Marcus/Coding_Projects/Python_Projects/fall2023-code-examples-from-teachings/ses4/notebook_listcomp_modules.ipynb#Y220sZmlsZQ%3D%3D?line=13'>14</a>\u001b[0m os\u001b[39m.\u001b[39mrmdir(\u001b[39m'\u001b[39m\u001b[39mTest\u001b[39m\u001b[39m'\u001b[39m)\n",
      "\u001b[1;31mFileExistsError\u001b[0m: [WinError 183] En fil, som allerede findes, kan ikke oprettes: 'Test'"
     ]
    }
   ],
   "source": [
    "os.chdir('/.')\n",
    "os.chdir('Users')\n",
    "os.chdir('Marcus')\n",
    "os.chdir('Coding_Projects')\n",
    "os.chdir('Python_Projects')\n",
    "os.chdir('fall2023-code-examples-from-teachings')\n",
    "os.chdir('ses4')\n",
    "\n",
    "print(os.listdir())\n",
    "os.mkdir('Test')\n",
    "print(os.listdir())\n",
    "os.mkdir('Test')\n",
    "print(os.listdir())\n",
    "os.rmdir('Test')\n",
    "print(os.listdir())\n",
    "\n",
    "# More: https://realpython.com/working-with-files-in-python/ and https://docs.python.org/3/library/os.html"
   ]
  },
  {
   "cell_type": "markdown",
   "metadata": {
    "slideshow": {
     "slide_type": "slide"
    }
   },
   "source": [
    "## STUDENTS 10 MINUTES TASK\n",
    "**Ex 5: OS Module Exercise**"
   ]
  },
  {
   "cell_type": "markdown",
   "metadata": {
    "slideshow": {
     "slide_type": "-"
    }
   },
   "source": [
    "## Do the following task using the os module\n",
    "\n",
    "1. create a folder and name the folder 'os_exercises.'                                                  \n",
    "2. In that folder create a file. Name the file 'exercise.py'                                                                            \n",
    "3. get input from the console and write it to the file.                                                 \n",
    "4. repeat step 2 and 3 (and append to the file).                                                  \n",
    "5. read the content of the files and and print it to the console.\n"
   ]
  },
  {
   "cell_type": "markdown",
   "metadata": {
    "slideshow": {
     "slide_type": "slide"
    }
   },
   "source": [
    "## Subprocess module\n",
    "Run unix commands through python"
   ]
  },
  {
   "cell_type": "code",
   "execution_count": 16,
   "metadata": {
    "slideshow": {
     "slide_type": "-"
    }
   },
   "outputs": [
    {
     "name": "stdout",
     "output_type": "stream",
     "text": [
      "CompletedProcess(args=['touch', 'test.py'], returncode=1, stdout='')\n",
      "c:\\Users\\Marcus\\Coding_Projects\\Python_Projects\\fall2023-code-examples-from-teachings\\ses4\n",
      "\n"
     ]
    }
   ],
   "source": [
    "#%pip install subprocess\n",
    "import subprocess\n",
    "resultPWD = subprocess.run(['pwd'], stdout=subprocess.PIPE, text=True, shell=True)    \n",
    "resultTouch = subprocess.run(['touch', 'test.py'], stdout=subprocess.PIPE, text=True, shell=True)    \n",
    "resultLS = subprocess.run(['ls'], stdout=subprocess.PIPE, text=True, shell=True)    \n",
    "#resultRM = subprocess.run(['rm', 'test.py'], stdout=subprocess.PIPE, text=True, shell=True)    \n",
    "result5 = subprocess.run(['ls'], stdout=subprocess.PIPE, text=True, shell=True)\n",
    "result6 = subprocess.run(['pwd'], stdout=subprocess.PIPE, text=True, shell=True)\n",
    "resultCD = subprocess.run(['cd'], stdout=subprocess.PIPE, text=True, shell=True)\n",
    "print(resultTouch)\n",
    "print(resultCD.stdout)\n"
   ]
  },
  {
   "cell_type": "markdown",
   "metadata": {
    "slideshow": {
     "slide_type": "slide"
    }
   },
   "source": [
    "## Subprocess module\n",
    "Run git commands through python"
   ]
  },
  {
   "cell_type": "code",
   "execution_count": 18,
   "metadata": {
    "slideshow": {
     "slide_type": "-"
    }
   },
   "outputs": [
    {
     "data": {
      "text/plain": [
       "CompletedProcess(args=['ls'], returncode=1, stdout='')"
      ]
     },
     "execution_count": 18,
     "metadata": {},
     "output_type": "execute_result"
    }
   ],
   "source": [
    "import subprocess    \n",
    "subprocess.run(['git', 'clone', 'https://github.com/python-elective-kea/fall2023.git'])\n",
    "\n",
    "subprocess.run(['ls'], stdout=subprocess.PIPE, text=True, shell=True)  "
   ]
  },
  {
   "cell_type": "markdown",
   "metadata": {
    "slideshow": {
     "slide_type": "slide"
    }
   },
   "source": [
    "# Requests module (3rd party)\n",
    "## Have to be installed by:\n",
    "> pip install requests"
   ]
  },
  {
   "cell_type": "code",
   "execution_count": 5,
   "metadata": {
    "slideshow": {
     "slide_type": "slide"
    }
   },
   "outputs": [],
   "source": [
    "#%pip install requests\n",
    "import requests"
   ]
  },
  {
   "cell_type": "code",
   "execution_count": null,
   "metadata": {
    "slideshow": {
     "slide_type": "-"
    }
   },
   "outputs": [],
   "source": [
    "%pip list"
   ]
  },
  {
   "cell_type": "code",
   "execution_count": 3,
   "metadata": {
    "slideshow": {
     "slide_type": "slide"
    }
   },
   "outputs": [
    {
     "data": {
      "text/plain": [
       "90948"
      ]
     },
     "execution_count": 3,
     "metadata": {},
     "output_type": "execute_result"
    }
   ],
   "source": [
    "import requests    \n",
    "res = requests.get('https://kea.dk')\n",
    "res.text\n",
    "\n",
    "f = open('test.html', 'w')\n",
    "f.write(res.text)"
   ]
  },
  {
   "cell_type": "markdown",
   "metadata": {
    "slideshow": {
     "slide_type": "slide"
    }
   },
   "source": [
    "## Download Images"
   ]
  },
  {
   "cell_type": "code",
   "execution_count": 1,
   "metadata": {
    "slideshow": {
     "slide_type": "-"
    }
   },
   "outputs": [
    {
     "data": {
      "text/plain": [
       "2715"
      ]
     },
     "execution_count": 1,
     "metadata": {},
     "output_type": "execute_result"
    }
   ],
   "source": [
    "import requests\n",
    "\n",
    "f = requests.get('https://kea.dk/images/resources/logo-main-black-single.png', allow_redirects=True)\n",
    "\n",
    "o = open('logo.png', 'wb')\n",
    "o.write(f.content)"
   ]
  },
  {
   "cell_type": "markdown",
   "metadata": {},
   "source": [
    "# Ex 5: OS Module exercise\n",
    "\n",
    "Do the following task using the os module\n",
    "\n",
    "1. create a folder and name the folder 'os_exercises.'                                                  \n",
    "2. In that folder create a file. Name the file 'exercise.py'                                                                            \n",
    "3. get input from the console and write it to the file.                                                 \n",
    "    * In VSCode and using Notebooks the console will pop up in the top of the editor. So ```input()``` will propt the user for input, and i VScode this is in the top of the editor. \n",
    "4. repeat step 2 and 3 (name the file something else).                                                  \n",
    "5. read the content of the files and and print it to the console."
   ]
  },
  {
   "cell_type": "code",
   "execution_count": 13,
   "metadata": {},
   "outputs": [
    {
     "name": "stdout",
     "output_type": "stream",
     "text": [
      "['logo.png', 'notebook_listcomp_modules.ipynb', 'os_exercises', 'README.md', 'test.html']\n",
      "File 'exercise.py': Fisk 1\n",
      "File 'newexercise.py': Fisk 2\n"
     ]
    }
   ],
   "source": [
    "# Finder frem til det rigtige directory jeg vil arbejde fra\n",
    "import os\n",
    "import subprocess \n",
    "os.chdir('/.')\n",
    "os.chdir('Users')\n",
    "os.chdir('Marcus')\n",
    "os.chdir('Coding_Projects')\n",
    "os.chdir('Python_Projects')\n",
    "os.chdir('fall2023-code-examples-from-teachings')\n",
    "os.chdir('ses4')\n",
    "print(os.listdir())\n",
    "\n",
    "# 1. Creating folder and name it 'os_exercises'\n",
    "#os.mkdir('os_exercises')\n",
    "\n",
    "# 2. Goes in to the newly created folder and creates the file named 'exercise.py'\n",
    "os.chdir('os_exercises')\n",
    "open_py_file = open('exercise.py', 'w')\n",
    "\n",
    "# 3. Gets input form user/console and write it to the file\n",
    "resulting_input = input('Indtast noget til filen \"exercise.py\":')\n",
    "open_py_file.write(resulting_input)\n",
    "open_py_file.close()\n",
    "os.chdir('..')\n",
    "\n",
    "# 4. Repeat step 2, go in to the folder and sted 3, get user input and write it in to a new file\n",
    "os.chdir('os_exercises')\n",
    "new_py_file = open('newexercise.py', 'w')\n",
    "new_input = input('Indtast noget til den nye python fil \"newexercise.py:')\n",
    "new_py_file.write(new_input)\n",
    "new_py_file.close()\n",
    "\n",
    "# 5. Reading content from the 2 files and printing them to the console\n",
    "file_output_1 = open('exercise.py', 'r').read()\n",
    "file_output_2 = open('newexercise.py', 'r').read()\n",
    "\n",
    "print(f\"File 'exercise.py': {file_output_1}\")\n",
    "print(f\"File 'newexercise.py': {file_output_2}\")\n"
   ]
  },
  {
   "cell_type": "markdown",
   "metadata": {},
   "source": [
    "# Ex 6: Simple scraber with requests\n",
    "\n",
    "1. Create an application that asks for an url.\n",
    "2. Then Download that html page, and its images, icons etc. and change it so it will work locally on your computer. (Locally means that you should be able to cut your internet connection and still have a functionig html page).\n",
    "3. When done push all files to your github account. (all should be done programattically) Hint: api.github.com/user/repos can be used to create a repository from you program on Github)\n",
    "You will have to use the requests module, the OS module and the subprocesses module for this taks.\n",
    "An easy website to scrape is this: [url](https://clbokea.github.io/exam/assignment_2.html)"
   ]
  },
  {
   "cell_type": "code",
   "execution_count": 28,
   "metadata": {},
   "outputs": [
    {
     "name": "stdout",
     "output_type": "stream",
     "text": [
      "['.git', '.gitignore', '.venv', 'README.md', 'requirements.txt', 'ses1', 'ses2', 'ses4']\n",
      "c:\\Users\\Marcus\\Coding_Projects\\Python_Projects\\fall2023-code-examples-from-teachings\n",
      "\n"
     ]
    }
   ],
   "source": [
    "import requests\n",
    "import os\n",
    "import subprocess\n",
    "\n",
    "# Printer en liste af alle de ting/filer/mapper der er i det directory man er i, samt the path for det directory\n",
    "resultCD = subprocess.run(['cd'], stdout=subprocess.PIPE, text=True, shell=True)\n",
    "print(os.listdir())\n",
    "print(resultCD.stdout)\n",
    "# printer en beskeder, anmoder et url, så indtastes url og gemmes\n",
    "##url_Input = input(\"Type in a url:\") # 'https://clbokea.github.io/exam/assignment_2.html'\n",
    "# tager input url og downloader html side\n",
    "url_page = requests.get(\"https://clbokea.github.io/exam/assignment_2.html\")\n",
    "##print(url_page.text)\n",
    "\n",
    "# gemmer html siden lokalt så jeg kan bruge det fra en mappe kaldt src\n",
    "src_folder_exists = False\n",
    "for file_and_folder in os.listdir():\n",
    "    if file_and_folder == \"src\":\n",
    "        src_folder_exists = True\n",
    "        break\n",
    "if not src_folder_exists:\n",
    "    os.mkdir(\"src\")\n",
    "\n",
    "os.chdir(\"src\")\n",
    "\n",
    "png_content = requests.get('https://clbokea.github.io/exam/src/logo_python.png', allow_redirects=True).content\n",
    "png_file = open('logo_python.png', 'wb')\n",
    "png_file.write(png_content)\n",
    "\n",
    "jpg_content = requests.get('https://clbokea.github.io/exam/src/how-do-you-play-blackjack.jpg').content\n",
    "jpg_file = open('how-do-you-play-blackjack.jpg', 'wb')\n",
    "jpg_file.write(jpg_content)\n",
    "\n",
    "os.chdir(\"..\")\n",
    "\n",
    "html_file = open('test.html', 'w')\n",
    "html_file.write(url_page.text)\n",
    "\n",
    "\n",
    "\n",
    "\n",
    "\n",
    "\n",
    "# pusher project til github\n",
    "\n",
    "# Skift til din projektmappe (cd til projektets rodmappe)\n",
    "subprocess.run(['cd', r'c:\\Users\\Marcus\\Coding_Projects\\Python_Projects\\fall2023-code-examples-from-teachings'], shell=True)\n",
    "\n",
    "# Tilføj ændringer til Git-stagingområdet\n",
    "subprocess.run(['git', 'add', '.'], shell=True)\n",
    "\n",
    "# Udfør en commit med en besked\n",
    "subprocess.run(['git', 'commit', '-m', 'Committer automatiseret til GitHub'], shell=True)\n",
    "\n",
    "# Push ændringer til GitHub\n",
    "subprocess.run(['git', 'push', 'origin', 'session4'], shell=True)"
   ]
  },
  {
   "cell_type": "code",
   "execution_count": 24,
   "metadata": {},
   "outputs": [
    {
     "name": "stdout",
     "output_type": "stream",
     "text": [
      "['.git', '.gitignore', '.venv', 'README.md', 'requirements.txt', 'ses1', 'ses2', 'ses4']\n",
      "c:\\Users\\Marcus\\Coding_Projects\\Python_Projects\\fall2023-code-examples-from-teachings\n",
      "\n"
     ]
    }
   ],
   "source": [
    "import requests\n",
    "import os\n",
    "import subprocess\n",
    "\n",
    "os.chdir(\"fall2023-code-examples-from-teachings\")\n",
    "resultCD = subprocess.run(['cd'], stdout=subprocess.PIPE, text=True, shell=True)\n",
    "\n",
    "\n",
    "\n",
    "#os.chdir(\"..\")\n",
    "print(os.listdir())\n",
    "print(resultCD.stdout)"
   ]
  }
 ],
 "metadata": {
  "celltoolbar": "Slideshow",
  "kernelspec": {
   "display_name": "Python 3",
   "language": "python",
   "name": "python3"
  },
  "language_info": {
   "codemirror_mode": {
    "name": "ipython",
    "version": 3
   },
   "file_extension": ".py",
   "mimetype": "text/x-python",
   "name": "python",
   "nbconvert_exporter": "python",
   "pygments_lexer": "ipython3",
   "version": "3.11.5"
  }
 },
 "nbformat": 4,
 "nbformat_minor": 4
}
