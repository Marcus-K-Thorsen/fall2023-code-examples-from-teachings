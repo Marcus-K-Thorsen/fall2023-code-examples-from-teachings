{
 "cells": [
  {
   "cell_type": "markdown",
   "metadata": {},
   "source": [
    "# Slow down code\n",
    "\n",
    "The code below counts down from n -> 0. So calling countdown(5) prints: 5 4 3 2 1 Liftoff!"
   ]
  },
  {
   "cell_type": "code",
   "execution_count": null,
   "metadata": {},
   "outputs": [],
   "source": [
    "def countdown(n):\n",
    "     if not n:   # 0 is false, not false is true\n",
    "         return n\n",
    "     else:\n",
    "         print(n, end=' ')\n",
    "         return countdown(n-1) # call the same function with n as one less"
   ]
  },
  {
   "cell_type": "markdown",
   "metadata": {},
   "source": [
    "(The function is a recursive function, which you might or might not have worked with before.)\n",
    "\n",
    "Task:\n",
    "\n",
    "Create a decorator function that slows down your code by 1 second for each step. Call this function slowdown()\n",
    "\n",
    "For this you should use the ‘time’ module.\n",
    "\n",
    "When you got the ‘slowdown code’ working on this recursive function, try to create a more (for you) normal function that does the countdown using a loop, and see what happens if you decorate that function with you slowdown() function."
   ]
  },
  {
   "cell_type": "code",
   "execution_count": 19,
   "metadata": {},
   "outputs": [],
   "source": [
    "from time import time\n",
    "\n",
    "def slowdown(func):\n",
    "    def wrapper(*args):\n",
    "        start_time = time()\n",
    "        now_time = time()\n",
    "        while now_time - start_time < 1:\n",
    "            now_time = time()\n",
    "        return func(*args)\n",
    "    return wrapper"
   ]
  },
  {
   "cell_type": "code",
   "execution_count": 20,
   "metadata": {},
   "outputs": [],
   "source": [
    "@slowdown\n",
    "def countdown(n):\n",
    "     if n <= 0:   # if n er nul eller minus, så returneres n, ellers kaldes funktionen igen med et n mindre\n",
    "         return n\n",
    "     else:\n",
    "         print(n, end=' ')\n",
    "         return countdown(n-1) # call the same function with n as one less"
   ]
  },
  {
   "cell_type": "code",
   "execution_count": 21,
   "metadata": {},
   "outputs": [
    {
     "name": "stdout",
     "output_type": "stream",
     "text": [
      "5 4 3 2 1 "
     ]
    },
    {
     "data": {
      "text/plain": [
       "0"
      ]
     },
     "execution_count": 21,
     "metadata": {},
     "output_type": "execute_result"
    }
   ],
   "source": [
    "countdown(5)"
   ]
  }
 ],
 "metadata": {
  "kernelspec": {
   "display_name": ".venv",
   "language": "python",
   "name": "python3"
  },
  "language_info": {
   "codemirror_mode": {
    "name": "ipython",
    "version": 3
   },
   "file_extension": ".py",
   "mimetype": "text/x-python",
   "name": "python",
   "nbconvert_exporter": "python",
   "pygments_lexer": "ipython3",
   "version": "3.11.5"
  },
  "orig_nbformat": 4
 },
 "nbformat": 4,
 "nbformat_minor": 2
}
