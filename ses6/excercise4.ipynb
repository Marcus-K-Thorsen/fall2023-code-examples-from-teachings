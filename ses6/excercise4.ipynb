{
 "cells": [
  {
   "cell_type": "markdown",
   "metadata": {},
   "source": [
    "# Decorating Game Characters\n",
    "\n",
    "Background In the world of computer games, every character has a unique skill or ability that makes them special. For example, a character might have the ability to shoot accurately, move stealthily, or hack into computers.\n",
    "\n",
    "We’re going to use Python decorators to add unique skills or abilities to game characters.\n",
    "\n",
    "Task Create a Python decorator that adds a unique skill or ability to a game character. The decorator should be reusable, so that we can add multiple skills or abilities to a character.\n",
    "\n",
    "Example Here’s an example of how the decorator might be used:"
   ]
  },
  {
   "cell_type": "code",
   "execution_count": null,
   "metadata": {},
   "outputs": [],
   "source": [
    "@sharpshooter\n",
    "@stealthy\n",
    "def player():\n",
    "    return \"I'm the player character\"\n",
    "\n",
    "print(player())\n",
    "# The output of the code should be:\n",
    "# I'm the player character, the sharpshooter and stealthy character."
   ]
  },
  {
   "cell_type": "markdown",
   "metadata": {},
   "source": [
    "# Steps\n",
    "\n",
    "- Create a decorator function that takes a function as an argument and returns a new function that adds a unique skill or ability to the character’s description.\n",
    "\n",
    "- Add the decorator to the player() function to add the “sharpshooter” and “stealthy” abilities to the player character.\n",
    "\n",
    "- Test your code to make sure it works as expected.\n",
    "\n",
    "# Bonus\n",
    "\n",
    "- Create additional decorators for other skills or abilities that might be found in a computer game.\n",
    "\n",
    "- Add multiple skills or abilities to a single character by stacking multiple decorators."
   ]
  },
  {
   "cell_type": "code",
   "execution_count": 1,
   "metadata": {},
   "outputs": [],
   "source": [
    "def sharpshooter(func):\n",
    "    def wrapper():\n",
    "        player_value = f'{func()}, and the Sharpshooter'\n",
    "        return player_value\n",
    "    return wrapper\n",
    "\n",
    "def stealthy(func):\n",
    "    def wrapper():\n",
    "        player_value = f'{func()}, and Stealthy'\n",
    "        return player_value\n",
    "    return wrapper\n",
    "\n",
    "@sharpshooter\n",
    "@stealthy\n",
    "def player():\n",
    "    return \"I'm the player character\""
   ]
  },
  {
   "cell_type": "code",
   "execution_count": 2,
   "metadata": {},
   "outputs": [
    {
     "name": "stdout",
     "output_type": "stream",
     "text": [
      "I'm the player character, and Stealthy, and the Sharpshooter\n"
     ]
    }
   ],
   "source": [
    "print(player())"
   ]
  }
 ],
 "metadata": {
  "kernelspec": {
   "display_name": ".venv",
   "language": "python",
   "name": "python3"
  },
  "language_info": {
   "codemirror_mode": {
    "name": "ipython",
    "version": 3
   },
   "file_extension": ".py",
   "mimetype": "text/x-python",
   "name": "python",
   "nbconvert_exporter": "python",
   "pygments_lexer": "ipython3",
   "version": "3.11.5"
  },
  "orig_nbformat": 4
 },
 "nbformat": 4,
 "nbformat_minor": 2
}
