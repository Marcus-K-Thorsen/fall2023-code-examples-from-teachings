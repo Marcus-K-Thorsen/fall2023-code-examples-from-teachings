{
 "cells": [
  {
   "cell_type": "markdown",
   "metadata": {},
   "source": [
    "# Decorating Game Characters\n",
    "\n",
    "Background In the world of computer games, every character has a unique skill or ability that makes them special. For example, a character might have the ability to shoot accurately, move stealthily, or hack into computers.\n",
    "\n",
    "We’re going to use Python decorators to add unique skills or abilities to game characters.\n",
    "\n",
    "Task Create a Python decorator that adds a unique skill or ability to a game character. The decorator should be reusable, so that we can add multiple skills or abilities to a character.\n",
    "\n",
    "Example Here’s an example of how the decorator might be used:"
   ]
  },
  {
   "cell_type": "code",
   "execution_count": null,
   "metadata": {},
   "outputs": [],
   "source": [
    "@sharpshooter\n",
    "@stealthy\n",
    "def player():\n",
    "    return \"I'm the player character\"\n",
    "\n",
    "print(player())\n",
    "# The output of the code should be:\n",
    "# I'm the player character, the sharpshooter and stealthy character."
   ]
  },
  {
   "cell_type": "markdown",
   "metadata": {},
   "source": [
    "# Steps\n",
    "\n",
    "- Create a decorator function that takes a function as an argument and returns a new function that adds a unique skill or ability to the character’s description.\n",
    "\n",
    "- Add the decorator to the player() function to add the “sharpshooter” and “stealthy” abilities to the player character.\n",
    "\n",
    "- Test your code to make sure it works as expected.\n",
    "\n",
    "# Bonus\n",
    "\n",
    "- Create additional decorators for other skills or abilities that might be found in a computer game.\n",
    "\n",
    "- Add multiple skills or abilities to a single character by stacking multiple decorators."
   ]
  },
  {
   "cell_type": "code",
   "execution_count": 5,
   "metadata": {},
   "outputs": [],
   "source": [
    "def sharpshooter(func):\n",
    "    def wrapper():\n",
    "        player_value = f'{func()}, and the Sharpshooter'\n",
    "        return player_value\n",
    "    return wrapper\n",
    "\n",
    "def stealthy(func):\n",
    "    def wrapper():\n",
    "        player_value = f'{func()}, and Stealthy'\n",
    "        return player_value\n",
    "    return wrapper\n",
    "\n",
    "def magical(func):\n",
    "    def wrapper():\n",
    "        player_value = f'{func()}, and Magical'\n",
    "        return player_value\n",
    "    return wrapper\n",
    "\n",
    "@sharpshooter\n",
    "@stealthy\n",
    "@magical\n",
    "def player():\n",
    "    return \"I'm the player character\""
   ]
  },
  {
   "cell_type": "code",
   "execution_count": 6,
   "metadata": {},
   "outputs": [
    {
     "name": "stdout",
     "output_type": "stream",
     "text": [
      "I'm the player character, and Magical, and Stealthy, and the Sharpshooter\n"
     ]
    }
   ],
   "source": [
    "print(player())"
   ]
  },
  {
   "cell_type": "code",
   "execution_count": 19,
   "metadata": {},
   "outputs": [
    {
     "name": "stdout",
     "output_type": "stream",
     "text": [
      "I am the player named: \"Hans\" and my abilities are: \"Sharpshooter\", \"Stealthy\" and \"Magical\".\n"
     ]
    }
   ],
   "source": [
    "def sharpshooter_ability(func):\n",
    "    def wrapper(*args):\n",
    "        player_value = func(*args)\n",
    "        player_abilities = list(player_value.get(\"Abilities\"))\n",
    "        player_abilities.append(\"Sharpshooter\")\n",
    "        player_value.update({\"Abilities\": player_abilities})\n",
    "        return player_value\n",
    "    return wrapper\n",
    "\n",
    "def stealthy_ability(func):\n",
    "    def wrapper(*args):\n",
    "        player_value = func(*args)\n",
    "        player_abilities = list(player_value.get(\"Abilities\"))\n",
    "        player_abilities.append(\"Stealthy\")\n",
    "        player_value.update({\"Abilities\": player_abilities})\n",
    "        return player_value\n",
    "    return wrapper\n",
    "\n",
    "def magical_ability(func):\n",
    "    def wrapper(*args):\n",
    "        player_value = func(*args)\n",
    "        player_abilities = list(player_value.get(\"Abilities\"))\n",
    "        player_abilities.append(\"Magical\")\n",
    "        player_value.update({\"Abilities\": player_abilities})\n",
    "        return player_value\n",
    "    return wrapper\n",
    "\n",
    "@magical_ability\n",
    "@stealthy_ability\n",
    "@sharpshooter_ability\n",
    "def create_player(name, *args):\n",
    "    plaer_dict = {\"Name\": name, \"Abilities\": args}\n",
    "    return plaer_dict\n",
    "\n",
    "def print_player(player:dict):\n",
    "    player_name = player.get(\"Name\")\n",
    "    player_abilities = player.get(\"Abilities\")\n",
    "    intro_text = f'I am the player named: \"{player_name}\"'\n",
    "    ability_txt = 'and '\n",
    "    amount_of_abilities = len(player_abilities)\n",
    "    if amount_of_abilities <= 0:\n",
    "        ability_txt += 'I have no abilities.'\n",
    "    elif amount_of_abilities == 1:\n",
    "        ability_txt += f'my ability is: \"{player_abilities[0]}\".'\n",
    "    else:\n",
    "        ability_txt += f'my abilities are:'\n",
    "        counter = 0\n",
    "        for ability in player_abilities:\n",
    "            counter += 1\n",
    "            if counter == 1:\n",
    "                ability_txt += f' \"{ability}\"'\n",
    "            elif counter < amount_of_abilities:\n",
    "                ability_txt += f', \"{ability}\"'\n",
    "            else:\n",
    "                ability_txt += f' and \"{ability}\".'\n",
    "\n",
    "    \n",
    "    print(intro_text, ability_txt)\n",
    "    pass\n",
    "\n",
    "new_player = create_player(\"Hans\")\n",
    "print_player(new_player)"
   ]
  }
 ],
 "metadata": {
  "kernelspec": {
   "display_name": ".venv",
   "language": "python",
   "name": "python3"
  },
  "language_info": {
   "codemirror_mode": {
    "name": "ipython",
    "version": 3
   },
   "file_extension": ".py",
   "mimetype": "text/x-python",
   "name": "python",
   "nbconvert_exporter": "python",
   "pygments_lexer": "ipython3",
   "version": "3.11.5"
  },
  "orig_nbformat": 4
 },
 "nbformat": 4,
 "nbformat_minor": 2
}
