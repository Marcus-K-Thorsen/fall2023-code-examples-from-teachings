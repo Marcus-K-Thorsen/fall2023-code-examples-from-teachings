{
 "cells": [
  {
   "cell_type": "markdown",
   "metadata": {},
   "source": [
    "# Generators\n",
    "You can create generators in 3 ways\n",
    "* Itterator classes\n",
    "* Generator functions\n",
    "* Genreator expression"
   ]
  },
  {
   "cell_type": "markdown",
   "metadata": {},
   "source": [
    "A gernerator is an object that follows the iterator protocol.\n",
    "* Should implement \n",
    "    * \\_\\_iter\\_\\_ \n",
    "    * \\_\\_next\\_\\_\n",
    "    * raise Stopiteration\n",
    "\n",
    "this will make it able to work in code like a for loop\n",
    "\n",
    "```\n",
    "    for i in range(10):\n",
    "        print(i)\n",
    "\n",
    "    for i in [1, 2, 3, 4, 5]:\n",
    "        print(i)\n",
    "```\n",
    "\n",
    "It will react with the build in functions:\n",
    "* iter()\n",
    "* next()\n"
   ]
  },
  {
   "cell_type": "code",
   "execution_count": 6,
   "metadata": {},
   "outputs": [],
   "source": [
    "l = [1, 2, 3]\n",
    "it = iter(l)"
   ]
  },
  {
   "cell_type": "code",
   "execution_count": 7,
   "metadata": {},
   "outputs": [
    {
     "data": {
      "text/plain": [
       "1"
      ]
     },
     "execution_count": 7,
     "metadata": {},
     "output_type": "execute_result"
    }
   ],
   "source": [
    "next(it)"
   ]
  },
  {
   "cell_type": "code",
   "execution_count": 8,
   "metadata": {},
   "outputs": [
    {
     "name": "stdout",
     "output_type": "stream",
     "text": [
      "1\n",
      "2\n",
      "3\n"
     ]
    }
   ],
   "source": [
    "demolist = [1, 2, 3]\n",
    "for i in demolist:\n",
    "    print(i)"
   ]
  },
  {
   "cell_type": "markdown",
   "metadata": {},
   "source": [
    "## 1. Iterator classes"
   ]
  },
  {
   "cell_type": "code",
   "execution_count": 79,
   "metadata": {},
   "outputs": [],
   "source": [
    "class Number:\n",
    "    @property\n",
    "    def start_num(self):\n",
    "        return self._start_num\n",
    "    \n",
    "    @start_num.setter\n",
    "    def start_num(self, num):\n",
    "        if type(num) not in [int]:\n",
    "            raise ValueError(f'Start Number must be a Integer, which \"{num}\" that is the type of \"{type(num)}\" is not!')\n",
    "        self._start_num = num\n",
    "    \n",
    "    @property\n",
    "    def end_num(self):\n",
    "        return self._end_num\n",
    "    \n",
    "    @end_num.setter\n",
    "    def end_num(self, num):\n",
    "        if type(num) not in [int]:\n",
    "            raise ValueError(f'End Number must be a Integer, which \"{num}\" that is the type of \"{type(num)}\" is not!')\n",
    "        starting_number = self.start_num\n",
    "        if starting_number > num:\n",
    "            self.start_num = num\n",
    "            self._end_num = starting_number\n",
    "        elif starting_number == num:\n",
    "            if num == 0:\n",
    "                starting_number += 10\n",
    "            self._end_num = num + starting_number\n",
    "        else:\n",
    "            self._end_num = num\n",
    "\n",
    "    def __init__(self, start_num: int, end_num: int):\n",
    "        self.start_num = start_num\n",
    "        self.end_num = end_num\n",
    "\n",
    "\n",
    "    def __iter__(self):\n",
    "        return self\n",
    "    \n",
    "    def __next__(self):\n",
    "        return_value = self.start_num\n",
    "        self.start_num += 1\n",
    "        if self.start_num > self.end_num:\n",
    "            raise StopIteration('You reached the end!')\n",
    "        return return_value"
   ]
  },
  {
   "cell_type": "code",
   "execution_count": 94,
   "metadata": {},
   "outputs": [],
   "source": [
    "number = Number(5, 5)"
   ]
  },
  {
   "cell_type": "code",
   "execution_count": 95,
   "metadata": {},
   "outputs": [],
   "source": [
    "it_number = iter(number)"
   ]
  },
  {
   "cell_type": "code",
   "execution_count": 96,
   "metadata": {},
   "outputs": [
    {
     "data": {
      "text/plain": [
       "5"
      ]
     },
     "execution_count": 96,
     "metadata": {},
     "output_type": "execute_result"
    }
   ],
   "source": [
    "next(it_number)"
   ]
  },
  {
   "cell_type": "code",
   "execution_count": 28,
   "metadata": {},
   "outputs": [
    {
     "name": "stdout",
     "output_type": "stream",
     "text": [
      "0\n",
      "1\n",
      "2\n",
      "3\n",
      "4\n",
      "5\n",
      "6\n",
      "7\n",
      "8\n",
      "9\n"
     ]
    }
   ],
   "source": [
    "for i in Number():\n",
    "    print(i)"
   ]
  },
  {
   "cell_type": "markdown",
   "metadata": {},
   "source": [
    "## 2. Generator functions"
   ]
  },
  {
   "cell_type": "code",
   "execution_count": 30,
   "metadata": {},
   "outputs": [
    {
     "data": {
      "text/plain": [
       "<generator object compute at 0x0000022152F51700>"
      ]
     },
     "execution_count": 30,
     "metadata": {},
     "output_type": "execute_result"
    }
   ],
   "source": [
    "def compute(num):\n",
    "    for i in range(num):\n",
    "        yield i\n",
    "\n",
    "compute(10)"
   ]
  },
  {
   "cell_type": "code",
   "execution_count": 46,
   "metadata": {},
   "outputs": [],
   "source": [
    "it = compute(10)\n"
   ]
  },
  {
   "cell_type": "code",
   "execution_count": 47,
   "metadata": {},
   "outputs": [
    {
     "data": {
      "text/plain": [
       "0"
      ]
     },
     "execution_count": 47,
     "metadata": {},
     "output_type": "execute_result"
    }
   ],
   "source": [
    "next(it)"
   ]
  },
  {
   "cell_type": "markdown",
   "metadata": {},
   "source": [
    "## 3. Generator expression"
   ]
  },
  {
   "cell_type": "code",
   "execution_count": 49,
   "metadata": {},
   "outputs": [
    {
     "data": {
      "text/plain": [
       "<generator object <genexpr> at 0x0000022153018BA0>"
      ]
     },
     "execution_count": 49,
     "metadata": {},
     "output_type": "execute_result"
    }
   ],
   "source": [
    "( i for i in range(10) )"
   ]
  },
  {
   "cell_type": "code",
   "execution_count": null,
   "metadata": {},
   "outputs": [],
   "source": [
    "it = ( i for i in range(10) )"
   ]
  }
 ],
 "metadata": {
  "kernelspec": {
   "display_name": ".venv",
   "language": "python",
   "name": "python3"
  },
  "language_info": {
   "codemirror_mode": {
    "name": "ipython",
    "version": 3
   },
   "file_extension": ".py",
   "mimetype": "text/x-python",
   "name": "python",
   "nbconvert_exporter": "python",
   "pygments_lexer": "ipython3",
   "version": "3.11.5"
  }
 },
 "nbformat": 4,
 "nbformat_minor": 2
}
