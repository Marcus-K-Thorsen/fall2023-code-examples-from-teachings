{
 "cells": [
  {
   "cell_type": "markdown",
   "metadata": {},
   "source": [
    "## ex1: Python Students\n",
    "\n",
    "Based on the Student class below, create a PythonStudents class that acts as a collection of students. \n",
    "The class should implement the iterations protocol (iter(), next() and StopIteration). \n",
    "When iterated the Pythod_students object should return the name of each student in the list."
   ]
  },
  {
   "cell_type": "code",
   "execution_count": 18,
   "metadata": {},
   "outputs": [],
   "source": [
    "class PythonStudents:\n",
    "    @property\n",
    "    def students(self):\n",
    "        return self._students\n",
    "    \n",
    "    @students.setter\n",
    "    def students(self, students):\n",
    "        self._students = students\n",
    "    \n",
    "    def __init__(self):\n",
    "        self.students = []\n",
    "        self._generate_students()\n",
    "    \n",
    "    def append(self, student):\n",
    "        self.students.append(student)\n",
    "    \n",
    "    def __iter__(self):\n",
    "        self.student_num = 0\n",
    "        return self\n",
    "    \n",
    "    def __next__(self):\n",
    "        self.student_num += 1\n",
    "        amount_of_students = len(self.students)\n",
    "        if self.student_num > amount_of_students:\n",
    "            raise StopIteration(f'There are no more Students to iterate over. There are \"{amount_of_students}\" students and you reached student number \"{self.student_num}\"!')\n",
    "        return self.students[self.student_num - 1].name\n",
    "    \n",
    "    def _generate_students(self):\n",
    "        names = [\"Claus\", \"Anna\", \"Ben\", \"Diana\", \"Erik\", \"Fiona\", \"George\", \"Hannah\", \"Ivan\", \"Julia\"]\n",
    "        numbers = [1234, 5678, 9101, 1121, 3141, 5161, 7181, 9202, 1222, 3242]\n",
    "\n",
    "        for i in range(len(names)):\n",
    "            self._students.append(Student(names[i], numbers[i]))\n",
    "    \n",
    "\n",
    "\n",
    "\n",
    "\n",
    "\n",
    "class Student:\n",
    "    def __init__(self, name, cpr):\n",
    "        self.name = name\n",
    "        self.cpr = cpr\n",
    "\n",
    "    @property\n",
    "    def name(self):\n",
    "        return self._name\n",
    "\n",
    "    @name.setter\n",
    "    def name(self, name):\n",
    "        self._name = name.capitalize()\n",
    "\n",
    "    def __add__(self, student):\n",
    "        return Student('Anna the daugther', 1234)\n",
    "\n",
    "    def __str__(self):\n",
    "        return f'{self.name}, {self.cpr}'\n",
    "\n",
    "    def __repr__(self):\n",
    "        return f'{self.__dict__}'"
   ]
  },
  {
   "cell_type": "code",
   "execution_count": 19,
   "metadata": {},
   "outputs": [
    {
     "data": {
      "text/plain": [
       "[{'_name': 'Claus', 'cpr': 1234},\n",
       " {'_name': 'Anna', 'cpr': 5678},\n",
       " {'_name': 'Ben', 'cpr': 9101},\n",
       " {'_name': 'Diana', 'cpr': 1121},\n",
       " {'_name': 'Erik', 'cpr': 3141},\n",
       " {'_name': 'Fiona', 'cpr': 5161},\n",
       " {'_name': 'George', 'cpr': 7181},\n",
       " {'_name': 'Hannah', 'cpr': 9202},\n",
       " {'_name': 'Ivan', 'cpr': 1222},\n",
       " {'_name': 'Julia', 'cpr': 3242},\n",
       " {'_name': 'Anne', 'cpr': 1234},\n",
       " {'_name': 'Thomas', 'cpr': 4321}]"
      ]
     },
     "execution_count": 19,
     "metadata": {},
     "output_type": "execute_result"
    }
   ],
   "source": [
    "pst = PythonStudents()\n",
    "pst.append(Student('Anne', 1234))\n",
    "pst.append(Student(\"Thomas\", 4321))\n",
    "pst_it = iter(pst)\n",
    "pst.students"
   ]
  },
  {
   "cell_type": "code",
   "execution_count": 32,
   "metadata": {},
   "outputs": [
    {
     "ename": "StopIteration",
     "evalue": "There are no more Students to iterate over. There are \"12\" students and you reached student number \"13\"!",
     "output_type": "error",
     "traceback": [
      "\u001b[1;31m---------------------------------------------------------------------------\u001b[0m",
      "\u001b[1;31mStopIteration\u001b[0m                             Traceback (most recent call last)",
      "\u001b[1;32mc:\\Users\\Marcus\\Coding_Projects\\Python_Projects\\fall2023-code-examples-from-teachings\\ses10\\student_exercise.ipynb Cell 4\u001b[0m line \u001b[0;36m1\n\u001b[1;32m----> <a href='vscode-notebook-cell:/c%3A/Users/Marcus/Coding_Projects/Python_Projects/fall2023-code-examples-from-teachings/ses10/student_exercise.ipynb#W3sZmlsZQ%3D%3D?line=0'>1</a>\u001b[0m \u001b[39mnext\u001b[39;49m(pst_it)\n",
      "\u001b[1;32mc:\\Users\\Marcus\\Coding_Projects\\Python_Projects\\fall2023-code-examples-from-teachings\\ses10\\student_exercise.ipynb Cell 4\u001b[0m line \u001b[0;36m2\n\u001b[0;32m     <a href='vscode-notebook-cell:/c%3A/Users/Marcus/Coding_Projects/Python_Projects/fall2023-code-examples-from-teachings/ses10/student_exercise.ipynb#W3sZmlsZQ%3D%3D?line=22'>23</a>\u001b[0m amount_of_students \u001b[39m=\u001b[39m \u001b[39mlen\u001b[39m(\u001b[39mself\u001b[39m\u001b[39m.\u001b[39mstudents)\n\u001b[0;32m     <a href='vscode-notebook-cell:/c%3A/Users/Marcus/Coding_Projects/Python_Projects/fall2023-code-examples-from-teachings/ses10/student_exercise.ipynb#W3sZmlsZQ%3D%3D?line=23'>24</a>\u001b[0m \u001b[39mif\u001b[39;00m \u001b[39mself\u001b[39m\u001b[39m.\u001b[39mstudent_num \u001b[39m>\u001b[39m amount_of_students:\n\u001b[1;32m---> <a href='vscode-notebook-cell:/c%3A/Users/Marcus/Coding_Projects/Python_Projects/fall2023-code-examples-from-teachings/ses10/student_exercise.ipynb#W3sZmlsZQ%3D%3D?line=24'>25</a>\u001b[0m     \u001b[39mraise\u001b[39;00m \u001b[39mStopIteration\u001b[39;00m(\u001b[39mf\u001b[39m\u001b[39m'\u001b[39m\u001b[39mThere are no more Students to iterate over. There are \u001b[39m\u001b[39m\"\u001b[39m\u001b[39m{\u001b[39;00mamount_of_students\u001b[39m}\u001b[39;00m\u001b[39m\"\u001b[39m\u001b[39m students and you reached student number \u001b[39m\u001b[39m\"\u001b[39m\u001b[39m{\u001b[39;00m\u001b[39mself\u001b[39m\u001b[39m.\u001b[39mstudent_num\u001b[39m}\u001b[39;00m\u001b[39m\"\u001b[39m\u001b[39m!\u001b[39m\u001b[39m'\u001b[39m)\n\u001b[0;32m     <a href='vscode-notebook-cell:/c%3A/Users/Marcus/Coding_Projects/Python_Projects/fall2023-code-examples-from-teachings/ses10/student_exercise.ipynb#W3sZmlsZQ%3D%3D?line=25'>26</a>\u001b[0m \u001b[39mreturn\u001b[39;00m \u001b[39mself\u001b[39m\u001b[39m.\u001b[39mstudents[\u001b[39mself\u001b[39m\u001b[39m.\u001b[39mstudent_num \u001b[39m-\u001b[39m \u001b[39m1\u001b[39m]\u001b[39m.\u001b[39mname\n",
      "\u001b[1;31mStopIteration\u001b[0m: There are no more Students to iterate over. There are \"12\" students and you reached student number \"13\"!"
     ]
    }
   ],
   "source": [
    "next(pst_it)"
   ]
  },
  {
   "cell_type": "markdown",
   "metadata": {},
   "source": [
    "## ex2: School of students\n",
    "\n",
    "In this exercise you start out by having a list of names, and a list of majors.\n",
    "\n",
    "Your job is to create:\n",
    "\n",
    "1. A list of dictionaries of students (ie: students = [{‘id’: 1,’name’: ‘Claus’, ‘major’: ‘Math’}]), cretated in a normal function that returns the result.\n",
    "\n",
    "2. A Generator that “returns” a generator object. So the student is yield instead of returned.\n",
    "\n",
    "Both functions should do the same, but one returns a list and one a generator object.\n",
    "\n",
    "students = [{‘id’: 1,’name’: ‘Clasu’, ‘major’: ‘Math’}]\n",
    "The id could be generated by a counter or like in a loop.\n",
    "The Name should be found by randomly chosing a name from the names list\n",
    "The Major should be found by randomly chosing a major from the major list"
   ]
  },
  {
   "cell_type": "code",
   "execution_count": 17,
   "metadata": {},
   "outputs": [
    {
     "name": "stdout",
     "output_type": "stream",
     "text": [
      "Time elapsed: 0.0\n"
     ]
    }
   ],
   "source": [
    "import random\n",
    "import time\n",
    "\n",
    "def timer(func):\n",
    "    def wrapper(*args):\n",
    "        start = time.time()\n",
    "        val = func(*args)\n",
    "        end = (time.time()) - start\n",
    "        print(f'Time elapsed: {end}')\n",
    "        return val\n",
    "    return wrapper\n",
    "\n",
    "names = ['John', 'Corey', 'Adam', 'Steve', 'Rick', 'Thomas']\n",
    "majors = ['Math', 'Engineering', 'CompSci', 'Arts', 'Business']\n",
    "\n",
    "@timer\n",
    "def people_list(num_people):\n",
    "    result = []\n",
    "    for i in range(num_people):\n",
    "        person = {\n",
    "            'id': i,\n",
    "            'name': random.choice(names),\n",
    "            'major': random.choice(majors)\n",
    "        }\n",
    "        result.append(person)\n",
    "    return result\n",
    "\n",
    "@timer\n",
    "def people_generator(num_people):\n",
    "    for i in range(num_people):\n",
    "        person = {\n",
    "            'id': i,\n",
    "            'name': random.choice(names),\n",
    "            'major': random.choice(majors)\n",
    "        }\n",
    "        yield person\n",
    "\n",
    "def students_list(num_students):\n",
    "    pass\n",
    "\n",
    "def students_generator(num_students):\n",
    "    pass\n",
    "\n",
    "people = people_generator(4)\n"
   ]
  },
  {
   "cell_type": "code",
   "execution_count": 23,
   "metadata": {},
   "outputs": [
    {
     "ename": "StopIteration",
     "evalue": "",
     "output_type": "error",
     "traceback": [
      "\u001b[1;31m---------------------------------------------------------------------------\u001b[0m",
      "\u001b[1;31mStopIteration\u001b[0m                             Traceback (most recent call last)",
      "\u001b[1;32mc:\\Users\\Marcus\\Coding_Projects\\Python_Projects\\fall2023-code-examples-from-teachings\\ses10\\student_exercise.ipynb Cell 7\u001b[0m line \u001b[0;36m1\n\u001b[1;32m----> <a href='vscode-notebook-cell:/c%3A/Users/Marcus/Coding_Projects/Python_Projects/fall2023-code-examples-from-teachings/ses10/student_exercise.ipynb#X16sZmlsZQ%3D%3D?line=0'>1</a>\u001b[0m \u001b[39mprint\u001b[39m(\u001b[39mnext\u001b[39;49m(people))\n",
      "\u001b[1;31mStopIteration\u001b[0m: "
     ]
    }
   ],
   "source": [
    "\n",
    "print(next(people))\n"
   ]
  },
  {
   "cell_type": "markdown",
   "metadata": {},
   "source": [
    "## ex3: Range Mimic\n",
    "\n",
    "1. Create a “clone” of the build in range() function, by doing an iterator class.\n",
    "\n",
    "In the documentation you can read the following about the range function.\n",
    "\n",
    "class range(start, stop, step=1)\n",
    "Rather than being a function, range is actually an immutable sequence type, as documented in Ranges and Sequence Types — list, tuple, range.\n",
    "\n",
    "So the range function is actually not a function, it is a class that implements the iterator protocol."
   ]
  },
  {
   "cell_type": "code",
   "execution_count": 46,
   "metadata": {},
   "outputs": [],
   "source": [
    "class range:\n",
    "\n",
    "    def __init__(self, *args):\n",
    "        if len(args) == 1:\n",
    "            self._start = 0\n",
    "            self._end = args[0]\n",
    "            self._step = 1\n",
    "        elif len(args) == 2:\n",
    "            self._start = args[0]\n",
    "            self._end = args[1]\n",
    "            self._step = 1\n",
    "        elif len(args) == 3:\n",
    "            self._start = args[0]\n",
    "            self._end = args[1]\n",
    "            self._step = args[2]\n",
    "    \n",
    "    def __iter__(self):\n",
    "        self._i = self._start\n",
    "        return self\n",
    "    \n",
    "    def __next__(self):\n",
    "        try:\n",
    "            if self._end > self._i:\n",
    "                self._tmp = self._i\n",
    "                self._i += self._step\n",
    "                return self._tmp\n",
    "            else:\n",
    "                raise StopIteration(f'self._end: {self._end} - self._i: {self._i}')\n",
    "        except AttributeError:\n",
    "            raise TypeError('Range method is not a Iterator!')"
   ]
  },
  {
   "cell_type": "code",
   "execution_count": 78,
   "metadata": {},
   "outputs": [],
   "source": [
    "r1 = range(10)\n",
    "i1 = iter(r1)\n",
    "\n",
    "r2 = range(2, 10)\n",
    "i2 = iter(r2)\n",
    "\n",
    "r3 = range(6, 16, 2)\n",
    "i3 = iter(r3)"
   ]
  },
  {
   "cell_type": "code",
   "execution_count": 79,
   "metadata": {},
   "outputs": [
    {
     "data": {
      "text/plain": [
       "0"
      ]
     },
     "execution_count": 79,
     "metadata": {},
     "output_type": "execute_result"
    }
   ],
   "source": [
    "next(i1)"
   ]
  },
  {
   "cell_type": "code",
   "execution_count": 83,
   "metadata": {},
   "outputs": [
    {
     "data": {
      "text/plain": [
       "5"
      ]
     },
     "execution_count": 83,
     "metadata": {},
     "output_type": "execute_result"
    }
   ],
   "source": [
    "next(i2)"
   ]
  },
  {
   "cell_type": "code",
   "execution_count": 89,
   "metadata": {},
   "outputs": [
    {
     "ename": "StopIteration",
     "evalue": "self._end: 16 - self._i: 16",
     "output_type": "error",
     "traceback": [
      "\u001b[1;31m---------------------------------------------------------------------------\u001b[0m",
      "\u001b[1;31mStopIteration\u001b[0m                             Traceback (most recent call last)",
      "\u001b[1;32mc:\\Users\\Marcus\\Coding_Projects\\Python_Projects\\fall2023-code-examples-from-teachings\\ses10\\student_exercise.ipynb Cell 12\u001b[0m line \u001b[0;36m1\n\u001b[1;32m----> <a href='vscode-notebook-cell:/c%3A/Users/Marcus/Coding_Projects/Python_Projects/fall2023-code-examples-from-teachings/ses10/student_exercise.ipynb#X20sZmlsZQ%3D%3D?line=0'>1</a>\u001b[0m \u001b[39mnext\u001b[39;49m(i3)\n",
      "\u001b[1;32mc:\\Users\\Marcus\\Coding_Projects\\Python_Projects\\fall2023-code-examples-from-teachings\\ses10\\student_exercise.ipynb Cell 12\u001b[0m line \u001b[0;36m2\n\u001b[0;32m     <a href='vscode-notebook-cell:/c%3A/Users/Marcus/Coding_Projects/Python_Projects/fall2023-code-examples-from-teachings/ses10/student_exercise.ipynb#X20sZmlsZQ%3D%3D?line=25'>26</a>\u001b[0m         \u001b[39mreturn\u001b[39;00m \u001b[39mself\u001b[39m\u001b[39m.\u001b[39m_tmp\n\u001b[0;32m     <a href='vscode-notebook-cell:/c%3A/Users/Marcus/Coding_Projects/Python_Projects/fall2023-code-examples-from-teachings/ses10/student_exercise.ipynb#X20sZmlsZQ%3D%3D?line=26'>27</a>\u001b[0m     \u001b[39melse\u001b[39;00m:\n\u001b[1;32m---> <a href='vscode-notebook-cell:/c%3A/Users/Marcus/Coding_Projects/Python_Projects/fall2023-code-examples-from-teachings/ses10/student_exercise.ipynb#X20sZmlsZQ%3D%3D?line=27'>28</a>\u001b[0m         \u001b[39mraise\u001b[39;00m \u001b[39mStopIteration\u001b[39;00m(\u001b[39mf\u001b[39m\u001b[39m'\u001b[39m\u001b[39mself._end: \u001b[39m\u001b[39m{\u001b[39;00m\u001b[39mself\u001b[39m\u001b[39m.\u001b[39m_end\u001b[39m}\u001b[39;00m\u001b[39m - self._i: \u001b[39m\u001b[39m{\u001b[39;00m\u001b[39mself\u001b[39m\u001b[39m.\u001b[39m_i\u001b[39m}\u001b[39;00m\u001b[39m'\u001b[39m)\n\u001b[0;32m     <a href='vscode-notebook-cell:/c%3A/Users/Marcus/Coding_Projects/Python_Projects/fall2023-code-examples-from-teachings/ses10/student_exercise.ipynb#X20sZmlsZQ%3D%3D?line=28'>29</a>\u001b[0m \u001b[39mexcept\u001b[39;00m \u001b[39mAttributeError\u001b[39;00m:\n\u001b[0;32m     <a href='vscode-notebook-cell:/c%3A/Users/Marcus/Coding_Projects/Python_Projects/fall2023-code-examples-from-teachings/ses10/student_exercise.ipynb#X20sZmlsZQ%3D%3D?line=29'>30</a>\u001b[0m     \u001b[39mraise\u001b[39;00m \u001b[39mTypeError\u001b[39;00m(\u001b[39m'\u001b[39m\u001b[39mRange method is not a Iterator!\u001b[39m\u001b[39m'\u001b[39m)\n",
      "\u001b[1;31mStopIteration\u001b[0m: self._end: 16 - self._i: 16"
     ]
    }
   ],
   "source": [
    "next(i3)"
   ]
  },
  {
   "cell_type": "markdown",
   "metadata": {},
   "source": [
    "2. Now do the same, but use a generator function instead."
   ]
  }
 ],
 "metadata": {
  "kernelspec": {
   "display_name": "Python 3",
   "language": "python",
   "name": "python3"
  },
  "language_info": {
   "codemirror_mode": {
    "name": "ipython",
    "version": 3
   },
   "file_extension": ".py",
   "mimetype": "text/x-python",
   "name": "python",
   "nbconvert_exporter": "python",
   "pygments_lexer": "ipython3",
   "version": "3.11.5"
  }
 },
 "nbformat": 4,
 "nbformat_minor": 2
}
