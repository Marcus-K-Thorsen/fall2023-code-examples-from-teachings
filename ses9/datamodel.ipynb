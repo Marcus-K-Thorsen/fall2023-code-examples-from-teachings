{
 "cells": [
  {
   "cell_type": "markdown",
   "metadata": {},
   "source": [
    "## Datamodel"
   ]
  },
  {
   "cell_type": "markdown",
   "metadata": {},
   "source": [
    "**Protocol:**    \n",
    "      \n",
    "**Top-level function or top-level syntax has a corosponding \\__method__()**\n"
   ]
  },
  {
   "cell_type": "markdown",
   "metadata": {},
   "source": [
    "Concepts:\n",
    "\n",
    "| Kolonne 1                | Kolonne 2                                  |\n",
    "|--------------------------|--------------------------------------------|\n",
    "| Datamodel methods        | All methods that starts and ends with a double underscore |\n",
    "| Top level functions  | Build in functions |\n",
    "| Top level syntax  | +,-,*,/ etc |"
   ]
  },
  {
   "cell_type": "markdown",
   "metadata": {},
   "source": []
  },
  {
   "cell_type": "markdown",
   "metadata": {},
   "source": [
    "### \\__init__()"
   ]
  },
  {
   "cell_type": "code",
   "execution_count": 18,
   "metadata": {},
   "outputs": [],
   "source": [
    "class Number:\n",
    "    \"\"\"\n",
    "    def __new__(cls, *args, **kwargs): # Constructor\n",
    "        return cls\n",
    "    \"\"\"\n",
    "\n",
    "    def __init__(self, value):\n",
    "        self.value = value\n",
    "    \n",
    "    def __repr__(self) -> str:\n",
    "        return f'{self.__dict__}'\n",
    "\n",
    "    def __str__(self):\n",
    "        return f'Number(Value = {self.value})'"
   ]
  },
  {
   "cell_type": "code",
   "execution_count": 19,
   "metadata": {},
   "outputs": [
    {
     "data": {
      "text/plain": [
       "{'value': 12}"
      ]
     },
     "execution_count": 19,
     "metadata": {},
     "output_type": "execute_result"
    }
   ],
   "source": [
    "num = Number(12)\n",
    "num"
   ]
  },
  {
   "cell_type": "markdown",
   "metadata": {},
   "source": [
    "### \\__repr__()"
   ]
  },
  {
   "cell_type": "code",
   "execution_count": 20,
   "metadata": {},
   "outputs": [
    {
     "data": {
      "text/plain": [
       "\"{'value': 12}\""
      ]
     },
     "execution_count": 20,
     "metadata": {},
     "output_type": "execute_result"
    }
   ],
   "source": [
    "repr(num)"
   ]
  },
  {
   "cell_type": "code",
   "execution_count": 23,
   "metadata": {},
   "outputs": [
    {
     "data": {
      "text/plain": [
       "\"{'value': 12}\""
      ]
     },
     "execution_count": 23,
     "metadata": {},
     "output_type": "execute_result"
    }
   ],
   "source": [
    "num.__repr__()"
   ]
  },
  {
   "cell_type": "markdown",
   "metadata": {},
   "source": [
    "### \\__str__()"
   ]
  },
  {
   "cell_type": "code",
   "execution_count": 21,
   "metadata": {},
   "outputs": [
    {
     "name": "stdout",
     "output_type": "stream",
     "text": [
      "Number(Value = 12)\n"
     ]
    },
    {
     "data": {
      "text/plain": [
       "'Number(Value = 12)'"
      ]
     },
     "execution_count": 21,
     "metadata": {},
     "output_type": "execute_result"
    }
   ],
   "source": [
    "print(num)\n",
    "str(num)"
   ]
  },
  {
   "cell_type": "markdown",
   "metadata": {},
   "source": [
    "| \\__str__() | \\__repr__() |\n",
    "|------------|-------------|\n",
    "| str()      | repr()      |\n",
    "| print()    | the interpretor | "
   ]
  },
  {
   "cell_type": "markdown",
   "metadata": {},
   "source": [
    "### Arithmetic operators\n",
    "+, -, *, /  "
   ]
  },
  {
   "cell_type": "code",
   "execution_count": 25,
   "metadata": {},
   "outputs": [
    {
     "data": {
      "text/plain": [
       "[1, 2, 3, 4, 1, 2, 3, 4]"
      ]
     },
     "execution_count": 25,
     "metadata": {},
     "output_type": "execute_result"
    }
   ],
   "source": [
    "l = [1, 2, 3, 4]\n",
    "l * 2"
   ]
  },
  {
   "cell_type": "code",
   "execution_count": 26,
   "metadata": {},
   "outputs": [
    {
     "data": {
      "text/plain": [
       "'HelloHello'"
      ]
     },
     "execution_count": 26,
     "metadata": {},
     "output_type": "execute_result"
    }
   ],
   "source": [
    "s = 'Hello'\n",
    "s + s"
   ]
  },
  {
   "cell_type": "code",
   "execution_count": 41,
   "metadata": {},
   "outputs": [],
   "source": [
    "class Number:\n",
    "    def __init__(self, value):\n",
    "        self.value = value\n",
    "    \n",
    "    def __add__(self, other: Number) -> Number:\n",
    "        return Number(self.value + other.value)\n",
    "    \n",
    "    def __mul__(self, other: Number) -> Number:\n",
    "        return Number(self.value * other.value)\n",
    "    \n",
    "    def __repr__(self) -> str:\n",
    "        return f'{self.__dict__}'\n",
    "\n",
    "num1 = Number(10)\n",
    "num2 = Number(2)"
   ]
  },
  {
   "cell_type": "code",
   "execution_count": 42,
   "metadata": {},
   "outputs": [
    {
     "data": {
      "text/plain": [
       "{'value': 12}"
      ]
     },
     "execution_count": 42,
     "metadata": {},
     "output_type": "execute_result"
    }
   ],
   "source": [
    "num1 + num2"
   ]
  },
  {
   "cell_type": "code",
   "execution_count": 46,
   "metadata": {},
   "outputs": [
    {
     "data": {
      "text/plain": [
       "{'value': 20}"
      ]
     },
     "execution_count": 46,
     "metadata": {},
     "output_type": "execute_result"
    }
   ],
   "source": [
    "num1 * num2"
   ]
  },
  {
   "cell_type": "markdown",
   "metadata": {},
   "source": [
    "### Indexed objects"
   ]
  },
  {
   "cell_type": "code",
   "execution_count": 50,
   "metadata": {},
   "outputs": [
    {
     "data": {
      "text/plain": [
       "[1, 2]"
      ]
     },
     "execution_count": 50,
     "metadata": {},
     "output_type": "execute_result"
    }
   ],
   "source": [
    "li = [1, 2, 3, 4]\n",
    "li[0:2]"
   ]
  },
  {
   "cell_type": "markdown",
   "metadata": {},
   "source": [
    "#### Deck of cards"
   ]
  },
  {
   "cell_type": "code",
   "execution_count": 121,
   "metadata": {},
   "outputs": [
    {
     "data": {
      "text/plain": [
       "{'cards': ['A', 'K', 4, 7]}"
      ]
     },
     "execution_count": 121,
     "metadata": {},
     "output_type": "execute_result"
    }
   ],
   "source": [
    "class Deck:\n",
    "    def __init__(self):\n",
    "        self.cards = ['A', 'K', 4, 7]\n",
    "    \n",
    "    def __getitem__(self, key: int):\n",
    "        return self.cards[key]\n",
    "    \n",
    "    def __setitem__(self, key: int, value):\n",
    "        self.cards[key] = value\n",
    "    \n",
    "    def __delitem__(self, key: int):\n",
    "        del self.cards[key]\n",
    "    \n",
    "    def append(self, value):\n",
    "        self.cards.append(value)\n",
    "\n",
    "    def __len__(self) -> int:\n",
    "        return len(self.cards)\n",
    "    \n",
    "    def __add__(self, other: Deck) -> Deck:\n",
    "        new_deck = Deck()\n",
    "        new_deck.cards = self.cards + other.cards\n",
    "        return new_deck\n",
    "\n",
    "    def __repr__(self) -> str:\n",
    "        return f'{self.__dict__}'\n",
    "    \n",
    "    def __str__(self) -> str:\n",
    "        return f'Deck(Cards = {self.cards})'\n",
    "\n",
    "deck = Deck()\n",
    "deck"
   ]
  },
  {
   "cell_type": "code",
   "execution_count": 122,
   "metadata": {},
   "outputs": [
    {
     "data": {
      "text/plain": [
       "[4, 7]"
      ]
     },
     "execution_count": 122,
     "metadata": {},
     "output_type": "execute_result"
    }
   ],
   "source": [
    "# __getitem__(self, key)\n",
    "deck[2:]"
   ]
  },
  {
   "cell_type": "code",
   "execution_count": 124,
   "metadata": {},
   "outputs": [
    {
     "data": {
      "text/plain": [
       "{'cards': ['A', 'K', 'Q', 7]}"
      ]
     },
     "execution_count": 124,
     "metadata": {},
     "output_type": "execute_result"
    }
   ],
   "source": [
    "# __setitem__(self, key, value)\n",
    "deck[2] = 'Q'\n",
    "deck"
   ]
  },
  {
   "cell_type": "code",
   "execution_count": 125,
   "metadata": {},
   "outputs": [
    {
     "data": {
      "text/plain": [
       "{'cards': ['A', 'K', 'Q']}"
      ]
     },
     "execution_count": 125,
     "metadata": {},
     "output_type": "execute_result"
    }
   ],
   "source": [
    "# __delitem__(self, key)\n",
    "del(deck[3]) # del deck[3]\n",
    "deck"
   ]
  },
  {
   "cell_type": "code",
   "execution_count": 126,
   "metadata": {},
   "outputs": [
    {
     "data": {
      "text/plain": [
       "{'cards': ['A', 'K', 'Q', 'J']}"
      ]
     },
     "execution_count": 126,
     "metadata": {},
     "output_type": "execute_result"
    }
   ],
   "source": [
    "# append(self, value)\n",
    "deck.append('J')\n",
    "deck"
   ]
  },
  {
   "cell_type": "markdown",
   "metadata": {},
   "source": [
    "### Ex1: Deck of cards\n",
    "Continue with the deck example and implement that\n",
    "\n",
    "* The deck should know how many cards it has by using the **len()** build in function.\n",
    "* You should be able to add 2 decks with the **+** oprator.\n",
    "* When the deck object is printed to the console a detailed representation of the objects state should be shown. (here you could also use the **repr()**)\n",
    "* When the deck object is printed throught the **print()** function a user friendly message about the object state should be displayed (here you could also use the str()).\n",
    "* You should be able to change a card with this syntax ```d[1] = 'Q'```    \n",
    "* You should be able to remove a card with this syntax ```del(d[1])```\n",
    "\n",
    "We look at this together in a short while.\n",
    "\n",
    "When you a done, take a look at the exercise below and ask your questions."
   ]
  },
  {
   "cell_type": "code",
   "execution_count": 127,
   "metadata": {},
   "outputs": [
    {
     "name": "stdout",
     "output_type": "stream",
     "text": [
      "Deck(Cards = ['A', 'K', 4, 7])\n",
      "Amount of cards in deck2 = 2\n"
     ]
    },
    {
     "data": {
      "text/plain": [
       "{'cards': [4, 7]}"
      ]
     },
     "execution_count": 127,
     "metadata": {},
     "output_type": "execute_result"
    }
   ],
   "source": [
    "# finding amount of cards using len() __len__(self)\n",
    "deck2 = Deck()\n",
    "print(deck2)\n",
    "del(deck2[:2])\n",
    "amount_of_cards_in_deck2 = len(deck2)\n",
    "print(f'Amount of cards in deck2 = {amount_of_cards_in_deck2}')\n",
    "deck2"
   ]
  },
  {
   "cell_type": "code",
   "execution_count": 128,
   "metadata": {},
   "outputs": [
    {
     "data": {
      "text/plain": [
       "{'cards': ['A', 'K', 'Q', 'J', 4, 7]}"
      ]
     },
     "execution_count": 128,
     "metadata": {},
     "output_type": "execute_result"
    }
   ],
   "source": [
    "# adding to decks using __add__(self, other)\n",
    "deck3 = deck + deck2\n",
    "deck3"
   ]
  },
  {
   "cell_type": "code",
   "execution_count": 129,
   "metadata": {},
   "outputs": [
    {
     "name": "stdout",
     "output_type": "stream",
     "text": [
      "Deck(Cards = ['A', 'K', 'Q', 'J', 4, 7])\n",
      "{'cards': ['A', 'K', 'Q', 'J', 4, 7]}\n"
     ]
    }
   ],
   "source": [
    "# Prints to the console a helpful message via print() using __str__(self)\n",
    "# Prints in the console a representation of deck3 via repr(deck3) using __repr(self)\n",
    "print(deck3)\n",
    "print(repr(deck3))"
   ]
  },
  {
   "cell_type": "code",
   "execution_count": 130,
   "metadata": {},
   "outputs": [
    {
     "data": {
      "text/plain": [
       "{'cards': ['A', 'K', 'Q', 'J', 4, 10]}"
      ]
     },
     "execution_count": 130,
     "metadata": {},
     "output_type": "execute_result"
    }
   ],
   "source": [
    "# Change a card from a Deck via deck[x] = y using __setitem__(self, key)\n",
    "deck3[-1] = 10\n",
    "deck3"
   ]
  },
  {
   "cell_type": "code",
   "execution_count": 131,
   "metadata": {},
   "outputs": [
    {
     "data": {
      "text/plain": [
       "{'cards': ['A', 'K', 'Q', 'J', 10]}"
      ]
     },
     "execution_count": 131,
     "metadata": {},
     "output_type": "execute_result"
    }
   ],
   "source": [
    "# Delete a card from a Deck via del(deck[x]) using __delitem__(self, key)\n",
    "del(deck3[-2])\n",
    "deck3"
   ]
  }
 ],
 "metadata": {
  "kernelspec": {
   "display_name": ".venv",
   "language": "python",
   "name": "python3"
  },
  "language_info": {
   "codemirror_mode": {
    "name": "ipython",
    "version": 3
   },
   "file_extension": ".py",
   "mimetype": "text/x-python",
   "name": "python",
   "nbconvert_exporter": "python",
   "pygments_lexer": "ipython3",
   "version": "3.11.5"
  }
 },
 "nbformat": 4,
 "nbformat_minor": 2
}
