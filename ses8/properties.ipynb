{
 "cells": [
  {
   "cell_type": "markdown",
   "metadata": {},
   "source": [
    "## Properties\n",
    "_Encapsulating data_"
   ]
  },
  {
   "cell_type": "code",
   "execution_count": 15,
   "metadata": {},
   "outputs": [],
   "source": [
    "from number import Number"
   ]
  },
  {
   "cell_type": "code",
   "execution_count": 36,
   "metadata": {},
   "outputs": [],
   "source": [
    "# Library code - JAVA Code\n",
    "class Number:\n",
    "\n",
    "    def __init__(self, value):\n",
    "           self.setX(value) \n",
    "\n",
    "    def getX(self):\n",
    "         return self.x\n",
    "    \n",
    "    def setX(self, value):\n",
    "        if value >= 0 and value <= 100:\n",
    "            self.x = value\n",
    "        else:\n",
    "            raise ValueError('Number should be between 0 and 100')\n",
    "        \n",
    "    x = property(getX, setX)"
   ]
  },
  {
   "cell_type": "code",
   "execution_count": 75,
   "metadata": {},
   "outputs": [],
   "source": [
    "# python \n",
    "\n",
    "class Number:\n",
    "    def __init__(self, value):\n",
    "        self.x = value\n",
    "\n",
    "    @property  # getter\n",
    "    def x(self):\n",
    "        return self._x\n",
    "    \n",
    "    @x.setter # setter\n",
    "    def x(self, value):\n",
    "        if 0 <= value <= 100:\n",
    "            self._x = value  # _x bliver oprettet\n",
    "        else:\n",
    "            raise ValueError('Number should be between 0 and 100')\n",
    "    "
   ]
  },
  {
   "cell_type": "code",
   "execution_count": 74,
   "metadata": {},
   "outputs": [
    {
     "data": {
      "text/plain": [
       "12"
      ]
     },
     "execution_count": 74,
     "metadata": {},
     "output_type": "execute_result"
    }
   ],
   "source": [
    "# user code\n",
    "num = Number(-78)\n",
    "num.x = 12\n",
    "num.x"
   ]
  },
  {
   "cell_type": "markdown",
   "metadata": {},
   "source": [
    "***"
   ]
  },
  {
   "cell_type": "markdown",
   "metadata": {},
   "source": [
    "> ### Q: What if value should be between 0 and 100?"
   ]
  },
  {
   "cell_type": "code",
   "execution_count": null,
   "metadata": {},
   "outputs": [],
   "source": [
    "# car.py (solution)\n",
    "\n",
    "# 1. Car object\n",
    "# Create a Car class. \n",
    "# When instanciated the object should be able to take 4 attributes (Make, Model, bhp, mph).\n",
    "# They all 4 should be properties.\n",
    "\n",
    "db = {\n",
    "    \"Audi\": {\"A3\", \"A4\", \"A6\", \"Q5\", \"Q7\"},\n",
    "    \"BMW\": {\"3 Series\", \"5 Series\", \"7 Series\", \"X3\", \"X5\"},\n",
    "    \"Mercedes-Benz\": {\"C-Class\", \"E-Class\", \"S-Class\", \"GLC\", \"GLE\"},\n",
    "    \"Volkswagen\": {\"Golf\", \"Passat\", \"Polo\", \"Tiguan\", \"Arteon\"},\n",
    "    \"Volvo\": {\"S60\", \"S90\", \"V60\", \"XC60\", \"XC90\"},\n",
    "    \"Toyota\": {\"Corolla\", \"Camry\", \"RAV4\", \"Prius\", \"Hilux\"},\n",
    "    \"Honda\": {\"Civic\", \"Accord\", \"CR-V\", \"Fit\", \"HR-V\"},\n",
    "    \"Ford\": {\"Focus\", \"Fiesta\", \"Mustang\", \"Escape\", \"Explorer\"},\n",
    "    \"Nissan\": {\"Altima\", \"Rogue\", \"Sentra\", \"Maxima\", \"Murano\"},\n",
    "    \"Mazda\": {\"Mazda3\", \"Mazda6\", \"CX-5\", \"CX-9\", \"MX-5\"}\n",
    "}\n",
    "\n",
    "\n",
    "class Car:\n",
    "    def __init__(self, make, model, bhp, mph):\n",
    "        self.make = make\n",
    "        self.model = model\n",
    "        self.bhp = bhp\n",
    "        self.mph = mph\n",
    "\n",
    "    # make\n",
    "    @property \n",
    "    def make(self):\n",
    "        return self._make\n",
    "    \n",
    "    @make.setter\n",
    "    def make(self, make):\n",
    "        if make not in db.keys():\n",
    "            raise ValueError('Make is not in valid list')\n",
    "        self._make = make\n",
    "\n",
    "    # model\n",
    "    @property \n",
    "    def model(self):\n",
    "        return self._model\n",
    "    \n",
    "    @model.setter\n",
    "    def model(self, model):\n",
    "        if model not in db[self.make]: \n",
    "            raise ValueError(f'No model named {model} belongs to {self.make}')\n",
    "        self._model = model\n",
    "    \n",
    "    # bhp\n",
    "    @property \n",
    "    def bhp(self):\n",
    "        return self._bhp\n",
    "    \n",
    "    @bhp.setter\n",
    "    def bhp(self, bhp):\n",
    "        if bhp < 0:\n",
    "            raise ValueError('bhp can not be negative')\n",
    "        self._bhp = bhp\n",
    "\n",
    "    # mph\n",
    "    @property \n",
    "    def mph(self):\n",
    "        return self._mph\n",
    "    \n",
    "    @mph.setter\n",
    "    def mph(self, mph):\n",
    "        if mph < 0:\n",
    "            raise ValueError('mph can not be negative')\n",
    "        self._mph = mph\n",
    "\n"
   ]
  }
 ],
 "metadata": {
  "kernelspec": {
   "display_name": ".venv",
   "language": "python",
   "name": "python3"
  },
  "language_info": {
   "codemirror_mode": {
    "name": "ipython",
    "version": 3
   },
   "file_extension": ".py",
   "mimetype": "text/x-python",
   "name": "python",
   "nbconvert_exporter": "python",
   "pygments_lexer": "ipython3",
   "version": "3.11.5"
  }
 },
 "nbformat": 4,
 "nbformat_minor": 2
}
